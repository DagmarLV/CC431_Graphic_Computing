{
  "cells": [
    {
      "cell_type": "code",
      "execution_count": 2,
      "metadata": {
        "colab": {
          "base_uri": "https://localhost:8080/"
        },
        "id": "VLZYdRYszoHV",
        "outputId": "fe034d7b-0752-4ef5-9d48-38cb1f455c73"
      },
      "outputs": [
        {
          "name": "stdout",
          "output_type": "stream",
          "text": [
            "Collecting q\n",
            "  Downloading q-2.7-py2.py3-none-any.whl (10 kB)\n",
            "Collecting keras==2.2.4\n",
            "  Downloading Keras-2.2.4-py2.py3-none-any.whl (312 kB)\n",
            "     -------------------------------------- 312.5/312.5 kB 6.4 MB/s eta 0:00:00\n",
            "Collecting pyyaml\n",
            "  Downloading PyYAML-6.0.1-cp39-cp39-win_amd64.whl (152 kB)\n",
            "     -------------------------------------- 152.8/152.8 kB 4.6 MB/s eta 0:00:00\n",
            "Requirement already satisfied: scipy>=0.14 in c:\\users\\nicole\\appdata\\local\\programs\\python\\python39\\lib\\site-packages (from keras==2.2.4) (1.8.1)\n",
            "Requirement already satisfied: six>=1.9.0 in c:\\users\\nicole\\appdata\\local\\programs\\python\\python39\\lib\\site-packages (from keras==2.2.4) (1.16.0)\n",
            "Collecting h5py\n",
            "  Downloading h5py-3.9.0-cp39-cp39-win_amd64.whl (2.7 MB)\n",
            "     ---------------------------------------- 2.7/2.7 MB 19.1 MB/s eta 0:00:00\n",
            "Collecting keras-preprocessing>=1.0.5\n",
            "  Downloading Keras_Preprocessing-1.1.2-py2.py3-none-any.whl (42 kB)\n",
            "     ---------------------------------------- 42.6/42.6 kB ? eta 0:00:00\n",
            "Requirement already satisfied: numpy>=1.9.1 in c:\\users\\nicole\\appdata\\local\\programs\\python\\python39\\lib\\site-packages (from keras==2.2.4) (1.22.4)\n",
            "Collecting keras-applications>=1.0.6\n",
            "  Downloading Keras_Applications-1.0.8-py3-none-any.whl (50 kB)\n",
            "     ---------------------------------------- 50.7/50.7 kB 2.5 MB/s eta 0:00:00\n",
            "Installing collected packages: q, pyyaml, keras-preprocessing, h5py, keras-applications, keras\n",
            "Successfully installed h5py-3.9.0 keras-2.2.4 keras-applications-1.0.8 keras-preprocessing-1.1.2 pyyaml-6.0.1 q-2.7\n",
            "\n",
            "[notice] A new release of pip available: 22.1.2 -> 23.2.1\n",
            "[notice] To update, run: python.exe -m pip install --upgrade pip\n",
            "Note: you may need to restart the kernel to use updated packages.\n",
            "Collecting tensorflow==2.12\n",
            "  Downloading tensorflow-2.12.0-cp39-cp39-win_amd64.whl (1.9 kB)\n",
            "Collecting tensorflow-intel==2.12.0\n",
            "  Downloading tensorflow_intel-2.12.0-cp39-cp39-win_amd64.whl (272.8 MB)\n",
            "     -------------------------------------- 272.8/272.8 MB 6.4 MB/s eta 0:00:00\n",
            "Requirement already satisfied: numpy<1.24,>=1.22 in c:\\users\\nicole\\appdata\\local\\programs\\python\\python39\\lib\\site-packages (from tensorflow-intel==2.12.0->tensorflow==2.12) (1.22.4)\n",
            "Requirement already satisfied: setuptools in c:\\users\\nicole\\appdata\\local\\programs\\python\\python39\\lib\\site-packages (from tensorflow-intel==2.12.0->tensorflow==2.12) (58.1.0)\n",
            "Collecting absl-py>=1.0.0\n",
            "  Downloading absl_py-2.0.0-py3-none-any.whl (130 kB)\n",
            "     -------------------------------------- 130.2/130.2 kB 7.5 MB/s eta 0:00:00\n",
            "Collecting protobuf!=4.21.0,!=4.21.1,!=4.21.2,!=4.21.3,!=4.21.4,!=4.21.5,<5.0.0dev,>=3.20.3\n",
            "  Downloading protobuf-4.24.4-cp39-cp39-win_amd64.whl (430 kB)\n",
            "     ------------------------------------- 430.5/430.5 kB 26.3 MB/s eta 0:00:00\n",
            "Collecting opt-einsum>=2.3.2\n",
            "  Downloading opt_einsum-3.3.0-py3-none-any.whl (65 kB)\n",
            "     ---------------------------------------- 65.5/65.5 kB ? eta 0:00:00\n",
            "Collecting grpcio<2.0,>=1.24.3\n",
            "  Downloading grpcio-1.59.0-cp39-cp39-win_amd64.whl (3.7 MB)\n",
            "     ---------------------------------------- 3.7/3.7 MB 26.0 MB/s eta 0:00:00\n",
            "Collecting keras<2.13,>=2.12.0\n",
            "  Downloading keras-2.12.0-py2.py3-none-any.whl (1.7 MB)\n",
            "     ---------------------------------------- 1.7/1.7 MB 27.9 MB/s eta 0:00:00\n",
            "Collecting libclang>=13.0.0\n",
            "  Downloading libclang-16.0.6-py2.py3-none-win_amd64.whl (24.4 MB)\n",
            "     --------------------------------------- 24.4/24.4 MB 19.3 MB/s eta 0:00:00\n",
            "Collecting termcolor>=1.1.0\n",
            "  Downloading termcolor-2.3.0-py3-none-any.whl (6.9 kB)\n",
            "Collecting tensorflow-estimator<2.13,>=2.12.0\n",
            "  Downloading tensorflow_estimator-2.12.0-py2.py3-none-any.whl (440 kB)\n",
            "     ------------------------------------- 440.7/440.7 kB 26.9 MB/s eta 0:00:00\n",
            "Requirement already satisfied: six>=1.12.0 in c:\\users\\nicole\\appdata\\local\\programs\\python\\python39\\lib\\site-packages (from tensorflow-intel==2.12.0->tensorflow==2.12) (1.16.0)\n",
            "Collecting tensorflow-io-gcs-filesystem>=0.23.1\n",
            "  Downloading tensorflow_io_gcs_filesystem-0.31.0-cp39-cp39-win_amd64.whl (1.5 MB)\n",
            "     ---------------------------------------- 1.5/1.5 MB 18.9 MB/s eta 0:00:00\n",
            "Collecting wrapt<1.15,>=1.11.0\n",
            "  Downloading wrapt-1.14.1-cp39-cp39-win_amd64.whl (35 kB)\n",
            "Collecting tensorboard<2.13,>=2.12\n",
            "  Downloading tensorboard-2.12.3-py3-none-any.whl (5.6 MB)\n",
            "     ---------------------------------------- 5.6/5.6 MB 21.2 MB/s eta 0:00:00\n",
            "Collecting flatbuffers>=2.0\n",
            "  Downloading flatbuffers-23.5.26-py2.py3-none-any.whl (26 kB)\n",
            "Requirement already satisfied: h5py>=2.9.0 in c:\\users\\nicole\\appdata\\local\\programs\\python\\python39\\lib\\site-packages (from tensorflow-intel==2.12.0->tensorflow==2.12) (3.9.0)\n",
            "Collecting jax>=0.3.15\n",
            "  Downloading jax-0.4.18-py3-none-any.whl (1.7 MB)\n",
            "     ---------------------------------------- 1.7/1.7 MB 21.1 MB/s eta 0:00:00\n",
            "Collecting gast<=0.4.0,>=0.2.1\n",
            "  Downloading gast-0.4.0-py3-none-any.whl (9.8 kB)\n",
            "Collecting google-pasta>=0.1.1\n",
            "  Downloading google_pasta-0.2.0-py3-none-any.whl (57 kB)\n",
            "     ---------------------------------------- 57.5/57.5 kB ? eta 0:00:00\n",
            "Requirement already satisfied: typing-extensions>=3.6.6 in c:\\users\\nicole\\appdata\\roaming\\python\\python39\\site-packages (from tensorflow-intel==2.12.0->tensorflow==2.12) (4.7.1)\n",
            "Requirement already satisfied: packaging in c:\\users\\nicole\\appdata\\local\\programs\\python\\python39\\lib\\site-packages (from tensorflow-intel==2.12.0->tensorflow==2.12) (21.3)\n",
            "Collecting astunparse>=1.6.0\n",
            "  Downloading astunparse-1.6.3-py2.py3-none-any.whl (12 kB)\n",
            "Collecting wheel<1.0,>=0.23.0\n",
            "  Downloading wheel-0.41.2-py3-none-any.whl (64 kB)\n",
            "     ---------------------------------------- 64.8/64.8 kB ? eta 0:00:00\n",
            "Requirement already satisfied: importlib-metadata>=4.6 in c:\\users\\nicole\\appdata\\roaming\\python\\python39\\site-packages (from jax>=0.3.15->tensorflow-intel==2.12.0->tensorflow==2.12) (6.8.0)\n",
            "Requirement already satisfied: scipy>=1.7 in c:\\users\\nicole\\appdata\\local\\programs\\python\\python39\\lib\\site-packages (from jax>=0.3.15->tensorflow-intel==2.12.0->tensorflow==2.12) (1.8.1)\n",
            "Collecting ml-dtypes>=0.2.0\n",
            "  Downloading ml_dtypes-0.3.1-cp39-cp39-win_amd64.whl (126 kB)\n",
            "     ---------------------------------------- 126.7/126.7 kB ? eta 0:00:00\n",
            "Collecting werkzeug>=1.0.1\n",
            "  Using cached werkzeug-3.0.0-py3-none-any.whl (226 kB)\n",
            "Collecting requests<3,>=2.21.0\n",
            "  Downloading requests-2.31.0-py3-none-any.whl (62 kB)\n",
            "     ---------------------------------------- 62.6/62.6 kB 3.5 MB/s eta 0:00:00\n",
            "Collecting google-auth<3,>=1.6.3\n",
            "  Downloading google_auth-2.23.2-py2.py3-none-any.whl (181 kB)\n",
            "     ------------------------------------- 182.0/182.0 kB 10.7 MB/s eta 0:00:00\n",
            "Collecting tensorboard-data-server<0.8.0,>=0.7.0\n",
            "  Downloading tensorboard_data_server-0.7.1-py3-none-any.whl (2.4 kB)\n",
            "Collecting google-auth-oauthlib<1.1,>=0.5\n",
            "  Downloading google_auth_oauthlib-1.0.0-py2.py3-none-any.whl (18 kB)\n",
            "Collecting markdown>=2.6.8\n",
            "  Downloading Markdown-3.5-py3-none-any.whl (101 kB)\n",
            "     ---------------------------------------- 101.7/101.7 kB ? eta 0:00:00\n",
            "Requirement already satisfied: pyparsing!=3.0.5,>=2.0.2 in c:\\users\\nicole\\appdata\\local\\programs\\python\\python39\\lib\\site-packages (from packaging->tensorflow-intel==2.12.0->tensorflow==2.12) (3.0.9)\n",
            "Collecting rsa<5,>=3.1.4\n",
            "  Downloading rsa-4.9-py3-none-any.whl (34 kB)\n",
            "Collecting pyasn1-modules>=0.2.1\n",
            "  Downloading pyasn1_modules-0.3.0-py2.py3-none-any.whl (181 kB)\n",
            "     ---------------------------------------- 181.3/181.3 kB ? eta 0:00:00\n",
            "Collecting cachetools<6.0,>=2.0.0\n",
            "  Downloading cachetools-5.3.1-py3-none-any.whl (9.3 kB)\n",
            "Collecting requests-oauthlib>=0.7.0\n",
            "  Downloading requests_oauthlib-1.3.1-py2.py3-none-any.whl (23 kB)\n",
            "Requirement already satisfied: zipp>=0.5 in c:\\users\\nicole\\appdata\\roaming\\python\\python39\\site-packages (from importlib-metadata>=4.6->jax>=0.3.15->tensorflow-intel==2.12.0->tensorflow==2.12) (3.16.2)\n",
            "Collecting charset-normalizer<4,>=2\n",
            "  Downloading charset_normalizer-3.3.0-cp39-cp39-win_amd64.whl (98 kB)\n",
            "     ---------------------------------------- 98.2/98.2 kB ? eta 0:00:00\n",
            "Collecting urllib3<3,>=1.21.1\n",
            "  Downloading urllib3-2.0.6-py3-none-any.whl (123 kB)\n",
            "     ---------------------------------------- 123.8/123.8 kB ? eta 0:00:00\n",
            "Collecting idna<4,>=2.5\n",
            "  Downloading idna-3.4-py3-none-any.whl (61 kB)\n",
            "     ---------------------------------------- 61.5/61.5 kB ? eta 0:00:00\n",
            "Collecting certifi>=2017.4.17\n",
            "  Downloading certifi-2023.7.22-py3-none-any.whl (158 kB)\n",
            "     -------------------------------------- 158.3/158.3 kB 9.9 MB/s eta 0:00:00\n",
            "Collecting MarkupSafe>=2.1.1\n",
            "  Downloading MarkupSafe-2.1.3-cp39-cp39-win_amd64.whl (17 kB)\n",
            "Collecting pyasn1<0.6.0,>=0.4.6\n",
            "  Downloading pyasn1-0.5.0-py2.py3-none-any.whl (83 kB)\n",
            "     ---------------------------------------- 83.9/83.9 kB ? eta 0:00:00\n",
            "Collecting oauthlib>=3.0.0\n",
            "  Downloading oauthlib-3.2.2-py3-none-any.whl (151 kB)\n",
            "     ---------------------------------------- 151.7/151.7 kB ? eta 0:00:00\n",
            "Installing collected packages: libclang, flatbuffers, wrapt, wheel, urllib3, termcolor, tensorflow-io-gcs-filesystem, tensorflow-estimator, tensorboard-data-server, pyasn1, protobuf, opt-einsum, oauthlib, ml-dtypes, MarkupSafe, keras, idna, grpcio, google-pasta, gast, charset-normalizer, certifi, cachetools, absl-py, werkzeug, rsa, requests, pyasn1-modules, markdown, jax, astunparse, requests-oauthlib, google-auth, google-auth-oauthlib, tensorboard, tensorflow-intel, tensorflow\n",
            "  Attempting uninstall: keras\n",
            "    Found existing installation: Keras 2.2.4\n",
            "    Uninstalling Keras-2.2.4:\n",
            "      Successfully uninstalled Keras-2.2.4\n",
            "Successfully installed MarkupSafe-2.1.3 absl-py-2.0.0 astunparse-1.6.3 cachetools-5.3.1 certifi-2023.7.22 charset-normalizer-3.3.0 flatbuffers-23.5.26 gast-0.4.0 google-auth-2.23.2 google-auth-oauthlib-1.0.0 google-pasta-0.2.0 grpcio-1.59.0 idna-3.4 jax-0.4.18 keras-2.12.0 libclang-16.0.6 markdown-3.5 ml-dtypes-0.3.1 oauthlib-3.2.2 opt-einsum-3.3.0 protobuf-4.24.4 pyasn1-0.5.0 pyasn1-modules-0.3.0 requests-2.31.0 requests-oauthlib-1.3.1 rsa-4.9 tensorboard-2.12.3 tensorboard-data-server-0.7.1 tensorflow-2.12.0 tensorflow-estimator-2.12.0 tensorflow-intel-2.12.0 tensorflow-io-gcs-filesystem-0.31.0 termcolor-2.3.0 urllib3-2.0.6 werkzeug-3.0.0 wheel-0.41.2 wrapt-1.14.1\n",
            "\n",
            "[notice] A new release of pip available: 22.1.2 -> 23.2.1\n",
            "[notice] To update, run: python.exe -m pip install --upgrade pip\n",
            "Note: you may need to restart the kernel to use updated packages.\n"
          ]
        },
        {
          "name": "stderr",
          "output_type": "stream",
          "text": [
            "  WARNING: The script wheel.exe is installed in 'c:\\Users\\Nicole\\AppData\\Local\\Programs\\Python\\Python39\\Scripts' which is not on PATH.\n",
            "  Consider adding this directory to PATH or, if you prefer to suppress this warning, use --no-warn-script-location.\n",
            "  WARNING: The script normalizer.exe is installed in 'c:\\Users\\Nicole\\AppData\\Local\\Programs\\Python\\Python39\\Scripts' which is not on PATH.\n",
            "  Consider adding this directory to PATH or, if you prefer to suppress this warning, use --no-warn-script-location.\n",
            "  WARNING: The scripts pyrsa-decrypt.exe, pyrsa-encrypt.exe, pyrsa-keygen.exe, pyrsa-priv2pub.exe, pyrsa-sign.exe and pyrsa-verify.exe are installed in 'c:\\Users\\Nicole\\AppData\\Local\\Programs\\Python\\Python39\\Scripts' which is not on PATH.\n",
            "  Consider adding this directory to PATH or, if you prefer to suppress this warning, use --no-warn-script-location.\n",
            "  WARNING: The script markdown_py.exe is installed in 'c:\\Users\\Nicole\\AppData\\Local\\Programs\\Python\\Python39\\Scripts' which is not on PATH.\n",
            "  Consider adding this directory to PATH or, if you prefer to suppress this warning, use --no-warn-script-location.\n",
            "  WARNING: The script google-oauthlib-tool.exe is installed in 'c:\\Users\\Nicole\\AppData\\Local\\Programs\\Python\\Python39\\Scripts' which is not on PATH.\n",
            "  Consider adding this directory to PATH or, if you prefer to suppress this warning, use --no-warn-script-location.\n",
            "  WARNING: The script tensorboard.exe is installed in 'c:\\Users\\Nicole\\AppData\\Local\\Programs\\Python\\Python39\\Scripts' which is not on PATH.\n",
            "  Consider adding this directory to PATH or, if you prefer to suppress this warning, use --no-warn-script-location.\n",
            "  WARNING: The scripts estimator_ckpt_converter.exe, import_pb_to_tensorboard.exe, saved_model_cli.exe, tensorboard.exe, tf_upgrade_v2.exe, tflite_convert.exe, toco.exe and toco_from_protos.exe are installed in 'c:\\Users\\Nicole\\AppData\\Local\\Programs\\Python\\Python39\\Scripts' which is not on PATH.\n",
            "  Consider adding this directory to PATH or, if you prefer to suppress this warning, use --no-warn-script-location.\n"
          ]
        }
      ],
      "source": [
        "%pip install q keras==2.2.4\n",
        "%pip install tensorflow==2.12"
      ]
    },
    {
      "cell_type": "code",
      "execution_count": 3,
      "metadata": {
        "colab": {
          "base_uri": "https://localhost:8080/"
        },
        "id": "m1pnW3AKsfRs",
        "outputId": "1f2d983a-1997-4534-bf8e-e1c1689d9401"
      },
      "outputs": [
        {
          "name": "stdout",
          "output_type": "stream",
          "text": [
            "2.12.0\n"
          ]
        }
      ],
      "source": [
        "import tensorflow as tf\n",
        "print(tf.__version__)\n"
      ]
    },
    {
      "cell_type": "code",
      "execution_count": 5,
      "metadata": {},
      "outputs": [
        {
          "name": "stdout",
          "output_type": "stream",
          "text": [
            "Collecting scikit-image\n",
            "  Downloading scikit_image-0.22.0-cp39-cp39-win_amd64.whl (24.5 MB)\n",
            "     --------------------------------------- 24.5/24.5 MB 23.3 MB/s eta 0:00:00\n",
            "Requirement already satisfied: pillow>=9.0.1 in c:\\users\\nicole\\appdata\\local\\programs\\python\\python39\\lib\\site-packages (from scikit-image) (9.1.1)\n",
            "Requirement already satisfied: numpy>=1.22 in c:\\users\\nicole\\appdata\\local\\programs\\python\\python39\\lib\\site-packages (from scikit-image) (1.22.4)\n",
            "Requirement already satisfied: scipy>=1.8 in c:\\users\\nicole\\appdata\\local\\programs\\python\\python39\\lib\\site-packages (from scikit-image) (1.8.1)\n",
            "Collecting imageio>=2.27\n",
            "  Using cached imageio-2.31.5-py3-none-any.whl (313 kB)\n",
            "Requirement already satisfied: packaging>=21 in c:\\users\\nicole\\appdata\\local\\programs\\python\\python39\\lib\\site-packages (from scikit-image) (21.3)\n",
            "Collecting lazy_loader>=0.3\n",
            "  Using cached lazy_loader-0.3-py3-none-any.whl (9.1 kB)\n",
            "Collecting networkx>=2.8\n",
            "  Using cached networkx-3.1-py3-none-any.whl (2.1 MB)\n",
            "Collecting tifffile>=2022.8.12\n",
            "  Using cached tifffile-2023.9.26-py3-none-any.whl (222 kB)\n",
            "Requirement already satisfied: pyparsing!=3.0.5,>=2.0.2 in c:\\users\\nicole\\appdata\\local\\programs\\python\\python39\\lib\\site-packages (from packaging>=21->scikit-image) (3.0.9)\n",
            "Installing collected packages: tifffile, networkx, lazy_loader, imageio, scikit-image\n",
            "Successfully installed imageio-2.31.5 lazy_loader-0.3 networkx-3.1 scikit-image-0.22.0 tifffile-2023.9.26\n",
            "\n",
            "[notice] A new release of pip available: 22.1.2 -> 23.2.1\n",
            "[notice] To update, run: python.exe -m pip install --upgrade pip\n",
            "Note: you may need to restart the kernel to use updated packages.\n"
          ]
        },
        {
          "name": "stderr",
          "output_type": "stream",
          "text": [
            "  WARNING: The scripts lsm2bin.exe, tiff2fsspec.exe, tiffcomment.exe and tifffile.exe are installed in 'c:\\Users\\Nicole\\AppData\\Local\\Programs\\Python\\Python39\\Scripts' which is not on PATH.\n",
            "  Consider adding this directory to PATH or, if you prefer to suppress this warning, use --no-warn-script-location.\n",
            "  WARNING: The scripts imageio_download_bin.exe and imageio_remove_bin.exe are installed in 'c:\\Users\\Nicole\\AppData\\Local\\Programs\\Python\\Python39\\Scripts' which is not on PATH.\n",
            "  Consider adding this directory to PATH or, if you prefer to suppress this warning, use --no-warn-script-location.\n"
          ]
        }
      ],
      "source": [
        "%pip install scikit-image"
      ]
    },
    {
      "cell_type": "code",
      "execution_count": 7,
      "metadata": {},
      "outputs": [
        {
          "name": "stdout",
          "output_type": "stream",
          "text": [
            "Collecting scikit-learn\n",
            "  Downloading scikit_learn-1.3.1-cp39-cp39-win_amd64.whl (9.3 MB)\n",
            "     ---------------------------------------- 9.3/9.3 MB 19.9 MB/s eta 0:00:00\n",
            "Requirement already satisfied: numpy<2.0,>=1.17.3 in c:\\users\\nicole\\appdata\\local\\programs\\python\\python39\\lib\\site-packages (from scikit-learn) (1.22.4)\n",
            "Collecting threadpoolctl>=2.0.0\n",
            "  Downloading threadpoolctl-3.2.0-py3-none-any.whl (15 kB)\n",
            "Collecting joblib>=1.1.1\n",
            "  Downloading joblib-1.3.2-py3-none-any.whl (302 kB)\n",
            "     ------------------------------------- 302.2/302.2 kB 19.5 MB/s eta 0:00:00\n",
            "Requirement already satisfied: scipy>=1.5.0 in c:\\users\\nicole\\appdata\\local\\programs\\python\\python39\\lib\\site-packages (from scikit-learn) (1.8.1)\n",
            "Installing collected packages: threadpoolctl, joblib, scikit-learn\n",
            "Successfully installed joblib-1.3.2 scikit-learn-1.3.1 threadpoolctl-3.2.0\n",
            "\n",
            "[notice] A new release of pip available: 22.1.2 -> 23.2.1\n",
            "[notice] To update, run: python.exe -m pip install --upgrade pip\n",
            "Note: you may need to restart the kernel to use updated packages.\n"
          ]
        }
      ],
      "source": [
        "%pip install scikit-learn"
      ]
    },
    {
      "cell_type": "code",
      "execution_count": 8,
      "metadata": {
        "id": "M4tg9AulnhRa"
      },
      "outputs": [],
      "source": [
        "import numpy as np\n",
        "import matplotlib.pyplot as plt\n",
        "from skimage.transform import resize\n",
        "from sklearn.model_selection import train_test_split"
      ]
    },
    {
      "cell_type": "code",
      "execution_count": 9,
      "metadata": {
        "colab": {
          "base_uri": "https://localhost:8080/"
        },
        "id": "f2pbBqnSLYc8",
        "outputId": "baeb7d9d-8b33-4d06-c4ef-d152fe293f3e"
      },
      "outputs": [
        {
          "name": "stdout",
          "output_type": "stream",
          "text": [
            "Mon Oct  9 04:45:35 2023       \n",
            "+-----------------------------------------------------------------------------+\n",
            "| NVIDIA-SMI 512.78       Driver Version: 512.78       CUDA Version: 11.6     |\n",
            "|-------------------------------+----------------------+----------------------+\n",
            "| GPU  Name            TCC/WDDM | Bus-Id        Disp.A | Volatile Uncorr. ECC |\n",
            "| Fan  Temp  Perf  Pwr:Usage/Cap|         Memory-Usage | GPU-Util  Compute M. |\n",
            "|                               |                      |               MIG M. |\n",
            "|===============================+======================+======================|\n",
            "|   0  NVIDIA GeForce ... WDDM  | 00000000:01:00.0 Off |                  N/A |\n",
            "| N/A   51C    P8     3W /  N/A |     79MiB /  6144MiB |      0%      Default |\n",
            "|                               |                      |                  N/A |\n",
            "+-------------------------------+----------------------+----------------------+\n",
            "                                                                               \n",
            "+-----------------------------------------------------------------------------+\n",
            "| Processes:                                                                  |\n",
            "|  GPU   GI   CI        PID   Type   Process name                  GPU Memory |\n",
            "|        ID   ID                                                   Usage      |\n",
            "|=============================================================================|\n",
            "|    0   N/A  N/A      9588      C   ...\\app-1.0.9018\\Discord.exe    N/A      |\n",
            "+-----------------------------------------------------------------------------+\n"
          ]
        }
      ],
      "source": [
        "!nvidia-smi"
      ]
    },
    {
      "cell_type": "markdown",
      "metadata": {
        "id": "L3cG-u68k4NB"
      },
      "source": [
        "### Preparar datos"
      ]
    },
    {
      "cell_type": "code",
      "execution_count": 10,
      "metadata": {
        "id": "DOzikEiN9niE"
      },
      "outputs": [],
      "source": [
        "X_raw = np.load('X.npy')\n",
        "X_raw = X_raw/255.\n",
        "y = np.load('y.npy')\n",
        "X = []\n",
        "size = (28,28)\n",
        "for x in X_raw:\n",
        "    X.append(resize(x, size))\n",
        "X = np.array(X)"
      ]
    },
    {
      "cell_type": "code",
      "execution_count": 11,
      "metadata": {
        "colab": {
          "base_uri": "https://localhost:8080/",
          "height": 491
        },
        "id": "Us59s3Blpi_y",
        "outputId": "fb5c89e0-7652-4460-8cef-4a993467de32"
      },
      "outputs": [
        {
          "data": {
            "text/plain": [
              "[]"
            ]
          },
          "execution_count": 11,
          "metadata": {},
          "output_type": "execute_result"
        },
        {
          "data": {
            "image/png": "[encoded data removed]",
            "text/plain": [
              "<Figure size 640x480 with 1 Axes>"
            ]
          },
          "metadata": {},
          "output_type": "display_data"
        }
      ],
      "source": [
        "plt.figure()\n",
        "plt.title(\"Cantidad de muestras x dígito\")\n",
        "plt.ylabel(\"Cantidad\")\n",
        "plt.xlabel(\"Dígito\")\n",
        "plt.hist(y, bins=4)\n",
        "plt.plot()"
      ]
    },
    {
      "cell_type": "markdown",
      "metadata": {
        "id": "VnygyOx_kVgV"
      },
      "source": [
        "### Visualizando el `dataset`"
      ]
    },
    {
      "cell_type": "code",
      "execution_count": 12,
      "metadata": {
        "colab": {
          "base_uri": "https://localhost:8080/",
          "height": 744
        },
        "id": "XPuhkifOjMas",
        "outputId": "acb69e5f-7317-4b54-f651-c7a3f729472f"
      },
      "outputs": [
        {
          "data": {
            "image/png": "[encoded data removed]",
            "text/plain": [
              "<Figure size 2000x1000 with 25 Axes>"
            ]
          },
          "metadata": {},
          "output_type": "display_data"
        }
      ],
      "source": [
        "plt.figure(figsize=(20,10))\n",
        "for i in range(25):\n",
        "    plt.subplot(5,5, i+1)\n",
        "    idx = np.random.choice(X.shape[0], 1)[0]\n",
        "    plt.title('id:{} val:{}'.format(idx, y[idx] ))\n",
        "    plt.imshow(-X[idx], cmap='gray')\n",
        "    plt.axis('off')\n",
        "plt.show()"
      ]
    },
    {
      "cell_type": "markdown",
      "metadata": {
        "id": "ADHOOaWik7BQ"
      },
      "source": [
        "### Split de train-test"
      ]
    },
    {
      "cell_type": "code",
      "execution_count": 13,
      "metadata": {
        "colab": {
          "base_uri": "https://localhost:8080/"
        },
        "id": "VF2_YHPk24kz",
        "outputId": "da53cc7d-6b95-49e9-f01f-f716d9e9aead"
      },
      "outputs": [
        {
          "data": {
            "text/plain": [
              "(42, 28, 28)"
            ]
          },
          "execution_count": 13,
          "metadata": {},
          "output_type": "execute_result"
        }
      ],
      "source": [
        "X.shape"
      ]
    },
    {
      "cell_type": "code",
      "execution_count": 14,
      "metadata": {
        "colab": {
          "base_uri": "https://localhost:8080/"
        },
        "id": "cxhkaG56265Q",
        "outputId": "e32ea5fb-9233-4e06-d197-02b9c65a1a7d"
      },
      "outputs": [
        {
          "data": {
            "text/plain": [
              "(42,)"
            ]
          },
          "execution_count": 14,
          "metadata": {},
          "output_type": "execute_result"
        }
      ],
      "source": [
        "y.shape"
      ]
    },
    {
      "cell_type": "code",
      "execution_count": 15,
      "metadata": {
        "id": "npamkfojIxjF"
      },
      "outputs": [],
      "source": [
        "X_train, X_test, y_train, y_test = train_test_split(X, y, test_size=0.20, random_state=42, stratify=y)"
      ]
    },
    {
      "cell_type": "code",
      "execution_count": 16,
      "metadata": {
        "colab": {
          "base_uri": "https://localhost:8080/",
          "height": 491
        },
        "id": "naSOHz06XiAL",
        "outputId": "59fd0aa8-8dee-4fac-b563-f710ee89daf9"
      },
      "outputs": [
        {
          "data": {
            "text/plain": [
              "[]"
            ]
          },
          "execution_count": 16,
          "metadata": {},
          "output_type": "execute_result"
        },
        {
          "data": {
            "image/png": "[encoded data removed]",
            "text/plain": [
              "<Figure size 640x480 with 1 Axes>"
            ]
          },
          "metadata": {},
          "output_type": "display_data"
        }
      ],
      "source": [
        "plt.figure()\n",
        "plt.title(\"Cantidad de muestras x dígito (train)\")\n",
        "plt.ylabel(\"Cantidad\")\n",
        "plt.xlabel(\"Dígito\")\n",
        "plt.hist(y_train, bins=4)\n",
        "plt.plot()"
      ]
    },
    {
      "cell_type": "code",
      "execution_count": 17,
      "metadata": {
        "colab": {
          "base_uri": "https://localhost:8080/",
          "height": 491
        },
        "id": "ze4tCjwWXp6u",
        "outputId": "c1b01aca-7a6c-4b78-a4c1-12d6e53b8421"
      },
      "outputs": [
        {
          "data": {
            "text/plain": [
              "[]"
            ]
          },
          "execution_count": 17,
          "metadata": {},
          "output_type": "execute_result"
        },
        {
          "data": {
            "image/png": "[encoded data removed]",
            "text/plain": [
              "<Figure size 640x480 with 1 Axes>"
            ]
          },
          "metadata": {},
          "output_type": "display_data"
        }
      ],
      "source": [
        "plt.figure()\n",
        "plt.title(\"Cantidad de muestras x dígito (test)\")\n",
        "plt.ylabel(\"Cantidad\")\n",
        "plt.xlabel(\"Dígito\")\n",
        "plt.hist(y_test, bins=8)\n",
        "plt.plot()"
      ]
    },
    {
      "cell_type": "code",
      "execution_count": 18,
      "metadata": {
        "colab": {
          "base_uri": "https://localhost:8080/"
        },
        "id": "YICha4VOORNe",
        "outputId": "94eacbdf-9674-48f2-b685-0a7662cd3493"
      },
      "outputs": [
        {
          "name": "stdout",
          "output_type": "stream",
          "text": [
            "(33, 28, 28, 1) (9, 28, 28, 1)\n"
          ]
        }
      ],
      "source": [
        "# Ajustamos las dimensiones de las imágenes\n",
        "if X_train.ndim == 3:\n",
        "    X_train = X_train[...,None]\n",
        "    X_test = X_test[..., None]\n",
        "    print(X_train.shape, X_test.shape)"
      ]
    },
    {
      "cell_type": "markdown",
      "metadata": {
        "id": "QNFock6RrosL"
      },
      "source": [
        "## Definimos un modelo"
      ]
    },
    {
      "cell_type": "code",
      "execution_count": 26,
      "metadata": {
        "colab": {
          "base_uri": "https://localhost:8080/"
        },
        "id": "pfe9qQgProsM",
        "outputId": "027d72fd-d3ce-4c6e-b67f-f22d7abb4e86"
      },
      "outputs": [
        {
          "name": "stdout",
          "output_type": "stream",
          "text": [
            "Model: \"sequential_1\"\n",
            "_________________________________________________________________\n",
            "Layer (type)                 Output Shape              Param #   \n",
            "=================================================================\n",
            "conv2d_3 (Conv2D)            (None, 26, 26, 32)        320       \n",
            "_________________________________________________________________\n",
            "max_pooling2d_3 (MaxPooling2 (None, 13, 13, 32)        0         \n",
            "_________________________________________________________________\n",
            "conv2d_4 (Conv2D)            (None, 13, 13, 64)        18496     \n",
            "_________________________________________________________________\n",
            "max_pooling2d_4 (MaxPooling2 (None, 6, 6, 64)          0         \n",
            "_________________________________________________________________\n",
            "conv2d_5 (Conv2D)            (None, 6, 6, 128)         73856     \n",
            "_________________________________________________________________\n",
            "max_pooling2d_5 (MaxPooling2 (None, 3, 3, 128)         0         \n",
            "_________________________________________________________________\n",
            "flatten_1 (Flatten)          (None, 1152)              0         \n",
            "_________________________________________________________________\n",
            "dense_2 (Dense)              (None, 128)               147584    \n",
            "_________________________________________________________________\n",
            "dense_3 (Dense)              (None, 4)                 516       \n",
            "=================================================================\n",
            "Total params: 240,772\n",
            "Trainable params: 240,772\n",
            "Non-trainable params: 0\n",
            "_________________________________________________________________\n"
          ]
        }
      ],
      "source": [
        "from tensorflow.python.keras.models import Sequential\n",
        "from tensorflow.python.keras.layers import Dense, Conv2D, MaxPool2D, Flatten\n",
        "from tensorflow.python.keras.optimizers import gradient_descent_v2\n",
        "\n",
        "\n",
        "bs = 16\n",
        "lr = 0.0005\n",
        "\n",
        "#Espacio de busqueda\n",
        "#Cantidad Filtros: 32, 64, 128, 256\n",
        "#Tamaño del Filtro: 3, 5, 7\n",
        "#Activaciones: 'relu', 'sigmoid', 'tanh'\n",
        "#Unidades Dense: 128, 256, 100..\n",
        "#lr: 0.001, 0.0001, 0.00001, etc\n",
        "#bs: 8, 16, 32...\n",
        "\n",
        "model = Sequential([Conv2D(32, 3, activation='relu', input_shape=(*size,1)),\n",
        "                    MaxPool2D(),\n",
        "                    Conv2D(64, 3, activation='relu', padding ='same'),\n",
        "                    MaxPool2D(),\n",
        "                    Conv2D(128, 3, activation='relu', padding ='same'),\n",
        "                    MaxPool2D(),\n",
        "                    Flatten(),\n",
        "                    Dense(128, activation='relu'), #modificar!\n",
        "                    Dense(4, activation='softmax')]) #no modificar\n",
        "\n",
        "optimizer1=gradient_descent_v2.SGD(learning_rate=lr)\n",
        "model.compile(optimizer= optimizer1, loss='sparse_categorical_crossentropy' , metrics=['accuracy'])\n",
        "# La pérdida 'sparse_categorical_crossentropy' realiza automaticamente la conversión\n",
        "# del target a one-hot encoding.\n",
        "\n",
        "model.summary()"
      ]
    },
    {
      "cell_type": "code",
      "execution_count": 19,
      "metadata": {
        "colab": {
          "base_uri": "https://localhost:8080/"
        },
        "id": "_2tTR6m4Pycp",
        "outputId": "de805e9f-634e-4958-a49e-40bd18708ca1"
      },
      "outputs": [
        {
          "name": "stdout",
          "output_type": "stream",
          "text": [
            "<class 'numpy.int64'>\n"
          ]
        }
      ],
      "source": [
        "import numpy as np\n",
        "\n",
        "print(type(y_train[0]))"
      ]
    },
    {
      "cell_type": "code",
      "execution_count": 28,
      "metadata": {
        "colab": {
          "base_uri": "https://localhost:8080/"
        },
        "id": "WtvV2QMvP9iQ",
        "outputId": "9e1611bc-53da-4efe-f688-5037902857c2"
      },
      "outputs": [
        {
          "name": "stdout",
          "output_type": "stream",
          "text": [
            "[2 1 3 2 0 2 0 0 1 3 1 2 0 3 0 1 0 2 1 0 3 3 2 1 0 1 3 0 1 0 1 0 0]\n"
          ]
        }
      ],
      "source": [
        "print(y_train)"
      ]
    },
    {
      "cell_type": "markdown",
      "metadata": {
        "id": "ViSNqBdCrosX"
      },
      "source": [
        "## Entrenamiento"
      ]
    },
    {
      "cell_type": "code",
      "execution_count": 27,
      "metadata": {
        "colab": {
          "base_uri": "https://localhost:8080/"
        },
        "id": "CLPujN72rosZ",
        "outputId": "bd8f9520-1b29-42ca-beb8-bc8300c925ac",
        "scrolled": true
      },
      "outputs": [
        {
          "name": "stdout",
          "output_type": "stream",
          "text": [
            "Epoch 1/400\n",
            "3/3 [==============================] - 1s 88ms/step - loss: 1.3869 - accuracy: 0.3030 - val_loss: 1.3798 - val_accuracy: 0.3333\n",
            "Epoch 2/400\n",
            "3/3 [==============================] - 0s 20ms/step - loss: 1.3867 - accuracy: 0.3030 - val_loss: 1.3795 - val_accuracy: 0.3333\n",
            "Epoch 3/400\n",
            "3/3 [==============================] - 0s 22ms/step - loss: 1.3861 - accuracy: 0.3030 - val_loss: 1.3793 - val_accuracy: 0.3333\n",
            "Epoch 4/400\n",
            "3/3 [==============================] - 0s 21ms/step - loss: 1.3859 - accuracy: 0.3030 - val_loss: 1.3791 - val_accuracy: 0.3333\n",
            "Epoch 5/400\n",
            "3/3 [==============================] - 0s 22ms/step - loss: 1.3858 - accuracy: 0.3030 - val_loss: 1.3792 - val_accuracy: 0.3333\n",
            "Epoch 6/400\n",
            "3/3 [==============================] - 0s 20ms/step - loss: 1.3856 - accuracy: 0.3030 - val_loss: 1.3789 - val_accuracy: 0.3333\n",
            "Epoch 7/400\n",
            "3/3 [==============================] - 0s 21ms/step - loss: 1.3849 - accuracy: 0.3030 - val_loss: 1.3786 - val_accuracy: 0.3333\n",
            "Epoch 8/400\n",
            "3/3 [==============================] - 0s 21ms/step - loss: 1.3842 - accuracy: 0.3030 - val_loss: 1.3784 - val_accuracy: 0.3333\n",
            "Epoch 9/400\n",
            "3/3 [==============================] - 0s 20ms/step - loss: 1.3841 - accuracy: 0.3030 - val_loss: 1.3786 - val_accuracy: 0.3333\n",
            "Epoch 10/400\n",
            "3/3 [==============================] - 0s 21ms/step - loss: 1.3839 - accuracy: 0.2727 - val_loss: 1.3786 - val_accuracy: 0.3333\n",
            "Epoch 11/400\n",
            "3/3 [==============================] - 0s 20ms/step - loss: 1.3837 - accuracy: 0.2727 - val_loss: 1.3788 - val_accuracy: 0.3333\n",
            "Epoch 12/400\n",
            "3/3 [==============================] - 0s 20ms/step - loss: 1.3836 - accuracy: 0.2727 - val_loss: 1.3785 - val_accuracy: 0.3333\n",
            "Epoch 13/400\n",
            "3/3 [==============================] - 0s 20ms/step - loss: 1.3835 - accuracy: 0.2727 - val_loss: 1.3782 - val_accuracy: 0.3333\n",
            "Epoch 14/400\n",
            "3/3 [==============================] - 0s 19ms/step - loss: 1.3829 - accuracy: 0.2727 - val_loss: 1.3784 - val_accuracy: 0.3333\n",
            "Epoch 15/400\n",
            "3/3 [==============================] - 0s 21ms/step - loss: 1.3827 - accuracy: 0.2727 - val_loss: 1.3781 - val_accuracy: 0.2222\n",
            "Epoch 16/400\n",
            "3/3 [==============================] - 0s 21ms/step - loss: 1.3820 - accuracy: 0.2727 - val_loss: 1.3777 - val_accuracy: 0.2222\n",
            "Epoch 17/400\n",
            "3/3 [==============================] - 0s 21ms/step - loss: 1.3813 - accuracy: 0.2727 - val_loss: 1.3774 - val_accuracy: 0.2222\n",
            "Epoch 18/400\n",
            "3/3 [==============================] - 0s 21ms/step - loss: 1.3807 - accuracy: 0.2424 - val_loss: 1.3774 - val_accuracy: 0.2222\n",
            "Epoch 19/400\n",
            "3/3 [==============================] - 0s 20ms/step - loss: 1.3805 - accuracy: 0.2424 - val_loss: 1.3772 - val_accuracy: 0.2222\n",
            "Epoch 20/400\n",
            "3/3 [==============================] - 0s 21ms/step - loss: 1.3804 - accuracy: 0.2727 - val_loss: 1.3769 - val_accuracy: 0.2222\n",
            "Epoch 21/400\n",
            "3/3 [==============================] - 0s 20ms/step - loss: 1.3803 - accuracy: 0.2727 - val_loss: 1.3768 - val_accuracy: 0.2222\n",
            "Epoch 22/400\n",
            "3/3 [==============================] - 0s 21ms/step - loss: 1.3801 - accuracy: 0.2424 - val_loss: 1.3770 - val_accuracy: 0.2222\n",
            "Epoch 23/400\n",
            "3/3 [==============================] - 0s 21ms/step - loss: 1.3800 - accuracy: 0.2727 - val_loss: 1.3771 - val_accuracy: 0.2222\n",
            "Epoch 24/400\n",
            "3/3 [==============================] - 0s 20ms/step - loss: 1.3798 - accuracy: 0.2727 - val_loss: 1.3768 - val_accuracy: 0.2222\n",
            "Epoch 25/400\n",
            "3/3 [==============================] - 0s 19ms/step - loss: 1.3792 - accuracy: 0.2424 - val_loss: 1.3764 - val_accuracy: 0.2222\n",
            "Epoch 26/400\n",
            "3/3 [==============================] - 0s 20ms/step - loss: 1.3786 - accuracy: 0.2121 - val_loss: 1.3765 - val_accuracy: 0.2222\n",
            "Epoch 27/400\n",
            "3/3 [==============================] - 0s 19ms/step - loss: 1.3785 - accuracy: 0.2424 - val_loss: 1.3767 - val_accuracy: 0.2222\n",
            "Epoch 28/400\n",
            "3/3 [==============================] - 0s 20ms/step - loss: 1.3783 - accuracy: 0.2424 - val_loss: 1.3764 - val_accuracy: 0.2222\n",
            "Epoch 29/400\n",
            "3/3 [==============================] - 0s 20ms/step - loss: 1.3779 - accuracy: 0.1818 - val_loss: 1.3762 - val_accuracy: 0.2222\n",
            "Epoch 30/400\n",
            "3/3 [==============================] - 0s 19ms/step - loss: 1.3776 - accuracy: 0.1818 - val_loss: 1.3759 - val_accuracy: 0.2222\n",
            "Epoch 31/400\n",
            "3/3 [==============================] - 0s 20ms/step - loss: 1.3776 - accuracy: 0.2121 - val_loss: 1.3757 - val_accuracy: 0.2222\n",
            "Epoch 32/400\n",
            "3/3 [==============================] - 0s 20ms/step - loss: 1.3775 - accuracy: 0.2424 - val_loss: 1.3754 - val_accuracy: 0.2222\n",
            "Epoch 33/400\n",
            "3/3 [==============================] - 0s 24ms/step - loss: 1.3768 - accuracy: 0.2121 - val_loss: 1.3750 - val_accuracy: 0.2222\n",
            "Epoch 34/400\n",
            "3/3 [==============================] - 0s 25ms/step - loss: 1.3763 - accuracy: 0.2121 - val_loss: 1.3748 - val_accuracy: 0.2222\n",
            "Epoch 35/400\n",
            "3/3 [==============================] - 0s 19ms/step - loss: 1.3761 - accuracy: 0.1818 - val_loss: 1.3750 - val_accuracy: 0.2222\n",
            "Epoch 36/400\n",
            "3/3 [==============================] - 0s 19ms/step - loss: 1.3760 - accuracy: 0.2121 - val_loss: 1.3747 - val_accuracy: 0.2222\n",
            "Epoch 37/400\n",
            "3/3 [==============================] - 0s 20ms/step - loss: 1.3753 - accuracy: 0.2424 - val_loss: 1.3745 - val_accuracy: 0.2222\n",
            "Epoch 38/400\n",
            "3/3 [==============================] - 0s 20ms/step - loss: 1.3753 - accuracy: 0.2424 - val_loss: 1.3742 - val_accuracy: 0.2222\n",
            "Epoch 39/400\n",
            "3/3 [==============================] - 0s 21ms/step - loss: 1.3747 - accuracy: 0.2727 - val_loss: 1.3741 - val_accuracy: 0.3333\n",
            "Epoch 40/400\n",
            "3/3 [==============================] - 0s 20ms/step - loss: 1.3745 - accuracy: 0.2727 - val_loss: 1.3738 - val_accuracy: 0.4444\n",
            "Epoch 41/400\n",
            "3/3 [==============================] - 0s 21ms/step - loss: 1.3740 - accuracy: 0.2727 - val_loss: 1.3735 - val_accuracy: 0.4444\n",
            "Epoch 42/400\n",
            "3/3 [==============================] - 0s 21ms/step - loss: 1.3738 - accuracy: 0.2727 - val_loss: 1.3735 - val_accuracy: 0.4444\n",
            "Epoch 43/400\n",
            "3/3 [==============================] - 0s 20ms/step - loss: 1.3738 - accuracy: 0.2727 - val_loss: 1.3733 - val_accuracy: 0.4444\n",
            "Epoch 44/400\n",
            "3/3 [==============================] - 0s 20ms/step - loss: 1.3736 - accuracy: 0.2727 - val_loss: 1.3731 - val_accuracy: 0.4444\n",
            "Epoch 45/400\n",
            "3/3 [==============================] - 0s 20ms/step - loss: 1.3730 - accuracy: 0.2727 - val_loss: 1.3732 - val_accuracy: 0.4444\n",
            "Epoch 46/400\n",
            "3/3 [==============================] - 0s 23ms/step - loss: 1.3728 - accuracy: 0.2727 - val_loss: 1.3729 - val_accuracy: 0.4444\n",
            "Epoch 47/400\n",
            "3/3 [==============================] - 0s 19ms/step - loss: 1.3723 - accuracy: 0.2727 - val_loss: 1.3729 - val_accuracy: 0.4444\n",
            "Epoch 48/400\n",
            "3/3 [==============================] - 0s 20ms/step - loss: 1.3723 - accuracy: 0.2424 - val_loss: 1.3729 - val_accuracy: 0.4444\n",
            "Epoch 49/400\n",
            "3/3 [==============================] - 0s 23ms/step - loss: 1.3721 - accuracy: 0.2424 - val_loss: 1.3727 - val_accuracy: 0.4444\n",
            "Epoch 50/400\n",
            "3/3 [==============================] - 0s 22ms/step - loss: 1.3720 - accuracy: 0.2727 - val_loss: 1.3725 - val_accuracy: 0.4444\n",
            "Epoch 51/400\n",
            "3/3 [==============================] - 0s 20ms/step - loss: 1.3719 - accuracy: 0.2424 - val_loss: 1.3724 - val_accuracy: 0.4444\n",
            "Epoch 52/400\n",
            "3/3 [==============================] - 0s 21ms/step - loss: 1.3717 - accuracy: 0.2727 - val_loss: 1.3726 - val_accuracy: 0.4444\n",
            "Epoch 53/400\n",
            "3/3 [==============================] - 0s 19ms/step - loss: 1.3717 - accuracy: 0.2727 - val_loss: 1.3723 - val_accuracy: 0.4444\n",
            "Epoch 54/400\n",
            "3/3 [==============================] - 0s 19ms/step - loss: 1.3711 - accuracy: 0.2424 - val_loss: 1.3725 - val_accuracy: 0.4444\n",
            "Epoch 55/400\n",
            "3/3 [==============================] - 0s 20ms/step - loss: 1.3710 - accuracy: 0.2727 - val_loss: 1.3721 - val_accuracy: 0.3333\n",
            "Epoch 56/400\n",
            "3/3 [==============================] - 0s 21ms/step - loss: 1.3705 - accuracy: 0.2727 - val_loss: 1.3719 - val_accuracy: 0.4444\n",
            "Epoch 57/400\n",
            "3/3 [==============================] - 0s 19ms/step - loss: 1.3699 - accuracy: 0.3333 - val_loss: 1.3720 - val_accuracy: 0.4444\n",
            "Epoch 58/400\n",
            "3/3 [==============================] - 0s 20ms/step - loss: 1.3698 - accuracy: 0.3333 - val_loss: 1.3718 - val_accuracy: 0.3333\n",
            "Epoch 59/400\n",
            "3/3 [==============================] - 0s 21ms/step - loss: 1.3693 - accuracy: 0.3636 - val_loss: 1.3715 - val_accuracy: 0.3333\n",
            "Epoch 60/400\n",
            "3/3 [==============================] - 0s 22ms/step - loss: 1.3688 - accuracy: 0.3939 - val_loss: 1.3714 - val_accuracy: 0.3333\n",
            "Epoch 61/400\n",
            "3/3 [==============================] - 0s 19ms/step - loss: 1.3687 - accuracy: 0.3939 - val_loss: 1.3712 - val_accuracy: 0.3333\n",
            "Epoch 62/400\n",
            "3/3 [==============================] - 0s 20ms/step - loss: 1.3686 - accuracy: 0.3636 - val_loss: 1.3709 - val_accuracy: 0.3333\n",
            "Epoch 63/400\n",
            "3/3 [==============================] - 0s 21ms/step - loss: 1.3681 - accuracy: 0.3939 - val_loss: 1.3712 - val_accuracy: 0.3333\n",
            "Epoch 64/400\n",
            "3/3 [==============================] - 0s 21ms/step - loss: 1.3681 - accuracy: 0.3939 - val_loss: 1.3709 - val_accuracy: 0.3333\n",
            "Epoch 65/400\n",
            "3/3 [==============================] - 0s 21ms/step - loss: 1.3677 - accuracy: 0.3939 - val_loss: 1.3709 - val_accuracy: 0.3333\n",
            "Epoch 66/400\n",
            "3/3 [==============================] - 0s 20ms/step - loss: 1.3676 - accuracy: 0.3939 - val_loss: 1.3706 - val_accuracy: 0.3333\n",
            "Epoch 67/400\n",
            "3/3 [==============================] - 0s 20ms/step - loss: 1.3674 - accuracy: 0.3939 - val_loss: 1.3703 - val_accuracy: 0.3333\n",
            "Epoch 68/400\n",
            "3/3 [==============================] - 0s 20ms/step - loss: 1.3669 - accuracy: 0.4242 - val_loss: 1.3701 - val_accuracy: 0.3333\n",
            "Epoch 69/400\n",
            "3/3 [==============================] - 0s 20ms/step - loss: 1.3665 - accuracy: 0.4545 - val_loss: 1.3699 - val_accuracy: 0.3333\n",
            "Epoch 70/400\n",
            "3/3 [==============================] - 0s 20ms/step - loss: 1.3664 - accuracy: 0.4242 - val_loss: 1.3696 - val_accuracy: 0.3333\n",
            "Epoch 71/400\n",
            "3/3 [==============================] - 0s 21ms/step - loss: 1.3663 - accuracy: 0.4242 - val_loss: 1.3693 - val_accuracy: 0.3333\n",
            "Epoch 72/400\n",
            "3/3 [==============================] - 0s 20ms/step - loss: 1.3658 - accuracy: 0.4545 - val_loss: 1.3690 - val_accuracy: 0.3333\n",
            "Epoch 73/400\n",
            "3/3 [==============================] - 0s 20ms/step - loss: 1.3657 - accuracy: 0.4242 - val_loss: 1.3693 - val_accuracy: 0.3333\n",
            "Epoch 74/400\n",
            "3/3 [==============================] - 0s 20ms/step - loss: 1.3656 - accuracy: 0.4242 - val_loss: 1.3693 - val_accuracy: 0.3333\n",
            "Epoch 75/400\n",
            "3/3 [==============================] - 0s 20ms/step - loss: 1.3655 - accuracy: 0.4545 - val_loss: 1.3690 - val_accuracy: 0.3333\n",
            "Epoch 76/400\n",
            "3/3 [==============================] - 0s 20ms/step - loss: 1.3650 - accuracy: 0.4545 - val_loss: 1.3688 - val_accuracy: 0.3333\n",
            "Epoch 77/400\n",
            "3/3 [==============================] - 0s 20ms/step - loss: 1.3647 - accuracy: 0.4545 - val_loss: 1.3688 - val_accuracy: 0.3333\n",
            "Epoch 78/400\n",
            "3/3 [==============================] - 0s 19ms/step - loss: 1.3646 - accuracy: 0.4545 - val_loss: 1.3686 - val_accuracy: 0.3333\n",
            "Epoch 79/400\n",
            "3/3 [==============================] - 0s 21ms/step - loss: 1.3642 - accuracy: 0.4545 - val_loss: 1.3683 - val_accuracy: 0.3333\n",
            "Epoch 80/400\n",
            "3/3 [==============================] - 0s 19ms/step - loss: 1.3638 - accuracy: 0.4242 - val_loss: 1.3680 - val_accuracy: 0.3333\n",
            "Epoch 81/400\n",
            "3/3 [==============================] - 0s 20ms/step - loss: 1.3638 - accuracy: 0.4545 - val_loss: 1.3678 - val_accuracy: 0.3333\n",
            "Epoch 82/400\n",
            "3/3 [==============================] - 0s 19ms/step - loss: 1.3637 - accuracy: 0.4545 - val_loss: 1.3680 - val_accuracy: 0.3333\n",
            "Epoch 83/400\n",
            "3/3 [==============================] - 0s 21ms/step - loss: 1.3636 - accuracy: 0.4545 - val_loss: 1.3677 - val_accuracy: 0.3333\n",
            "Epoch 84/400\n",
            "3/3 [==============================] - 0s 23ms/step - loss: 1.3634 - accuracy: 0.4545 - val_loss: 1.3679 - val_accuracy: 0.3333\n",
            "Epoch 85/400\n",
            "3/3 [==============================] - 0s 19ms/step - loss: 1.3633 - accuracy: 0.4545 - val_loss: 1.3676 - val_accuracy: 0.3333\n",
            "Epoch 86/400\n",
            "3/3 [==============================] - 0s 20ms/step - loss: 1.3628 - accuracy: 0.4545 - val_loss: 1.3673 - val_accuracy: 0.3333\n",
            "Epoch 87/400\n",
            "3/3 [==============================] - 0s 20ms/step - loss: 1.3624 - accuracy: 0.4545 - val_loss: 1.3675 - val_accuracy: 0.3333\n",
            "Epoch 88/400\n",
            "3/3 [==============================] - 0s 21ms/step - loss: 1.3623 - accuracy: 0.4545 - val_loss: 1.3678 - val_accuracy: 0.3333\n",
            "Epoch 89/400\n",
            "3/3 [==============================] - 0s 20ms/step - loss: 1.3623 - accuracy: 0.4545 - val_loss: 1.3675 - val_accuracy: 0.3333\n",
            "Epoch 90/400\n",
            "3/3 [==============================] - 0s 19ms/step - loss: 1.3618 - accuracy: 0.4545 - val_loss: 1.3672 - val_accuracy: 0.3333\n",
            "Epoch 91/400\n",
            "3/3 [==============================] - 0s 18ms/step - loss: 1.3613 - accuracy: 0.4242 - val_loss: 1.3669 - val_accuracy: 0.3333\n",
            "Epoch 92/400\n",
            "3/3 [==============================] - 0s 20ms/step - loss: 1.3609 - accuracy: 0.4242 - val_loss: 1.3667 - val_accuracy: 0.3333\n",
            "Epoch 93/400\n",
            "3/3 [==============================] - 0s 21ms/step - loss: 1.3605 - accuracy: 0.4242 - val_loss: 1.3663 - val_accuracy: 0.3333\n",
            "Epoch 94/400\n",
            "3/3 [==============================] - 0s 20ms/step - loss: 1.3604 - accuracy: 0.4242 - val_loss: 1.3660 - val_accuracy: 0.3333\n",
            "Epoch 95/400\n",
            "3/3 [==============================] - 0s 20ms/step - loss: 1.3599 - accuracy: 0.4242 - val_loss: 1.3658 - val_accuracy: 0.3333\n",
            "Epoch 96/400\n",
            "3/3 [==============================] - 0s 20ms/step - loss: 1.3599 - accuracy: 0.4242 - val_loss: 1.3660 - val_accuracy: 0.3333\n",
            "Epoch 97/400\n",
            "3/3 [==============================] - 0s 20ms/step - loss: 1.3598 - accuracy: 0.4242 - val_loss: 1.3657 - val_accuracy: 0.3333\n",
            "Epoch 98/400\n",
            "3/3 [==============================] - 0s 21ms/step - loss: 1.3594 - accuracy: 0.4242 - val_loss: 1.3654 - val_accuracy: 0.3333\n",
            "Epoch 99/400\n",
            "3/3 [==============================] - 0s 21ms/step - loss: 1.3589 - accuracy: 0.4242 - val_loss: 1.3656 - val_accuracy: 0.3333\n",
            "Epoch 100/400\n",
            "3/3 [==============================] - 0s 19ms/step - loss: 1.3589 - accuracy: 0.4242 - val_loss: 1.3656 - val_accuracy: 0.3333\n",
            "Epoch 101/400\n",
            "3/3 [==============================] - 0s 21ms/step - loss: 1.3587 - accuracy: 0.4242 - val_loss: 1.3656 - val_accuracy: 0.3333\n",
            "Epoch 102/400\n",
            "3/3 [==============================] - 0s 20ms/step - loss: 1.3586 - accuracy: 0.4242 - val_loss: 1.3652 - val_accuracy: 0.3333\n",
            "Epoch 103/400\n",
            "3/3 [==============================] - 0s 21ms/step - loss: 1.3582 - accuracy: 0.4242 - val_loss: 1.3654 - val_accuracy: 0.3333\n",
            "Epoch 104/400\n",
            "3/3 [==============================] - 0s 19ms/step - loss: 1.3581 - accuracy: 0.4242 - val_loss: 1.3654 - val_accuracy: 0.3333\n",
            "Epoch 105/400\n",
            "3/3 [==============================] - 0s 20ms/step - loss: 1.3580 - accuracy: 0.4242 - val_loss: 1.3651 - val_accuracy: 0.3333\n",
            "Epoch 106/400\n",
            "3/3 [==============================] - 0s 20ms/step - loss: 1.3577 - accuracy: 0.3939 - val_loss: 1.3651 - val_accuracy: 0.3333\n",
            "Epoch 107/400\n",
            "3/3 [==============================] - 0s 21ms/step - loss: 1.3575 - accuracy: 0.3939 - val_loss: 1.3651 - val_accuracy: 0.3333\n",
            "Epoch 108/400\n",
            "3/3 [==============================] - 0s 18ms/step - loss: 1.3574 - accuracy: 0.3939 - val_loss: 1.3648 - val_accuracy: 0.3333\n",
            "Epoch 109/400\n",
            "3/3 [==============================] - 0s 20ms/step - loss: 1.3573 - accuracy: 0.3939 - val_loss: 1.3648 - val_accuracy: 0.3333\n",
            "Epoch 110/400\n",
            "3/3 [==============================] - 0s 20ms/step - loss: 1.3572 - accuracy: 0.3939 - val_loss: 1.3648 - val_accuracy: 0.3333\n",
            "Epoch 111/400\n",
            "3/3 [==============================] - 0s 21ms/step - loss: 1.3572 - accuracy: 0.3939 - val_loss: 1.3646 - val_accuracy: 0.3333\n",
            "Epoch 112/400\n",
            "3/3 [==============================] - 0s 24ms/step - loss: 1.3567 - accuracy: 0.3636 - val_loss: 1.3642 - val_accuracy: 0.3333\n",
            "Epoch 113/400\n",
            "3/3 [==============================] - 0s 21ms/step - loss: 1.3563 - accuracy: 0.3636 - val_loss: 1.3644 - val_accuracy: 0.3333\n",
            "Epoch 114/400\n",
            "3/3 [==============================] - 0s 20ms/step - loss: 1.3562 - accuracy: 0.3636 - val_loss: 1.3642 - val_accuracy: 0.3333\n",
            "Epoch 115/400\n",
            "3/3 [==============================] - 0s 22ms/step - loss: 1.3559 - accuracy: 0.3636 - val_loss: 1.3643 - val_accuracy: 0.3333\n",
            "Epoch 116/400\n",
            "3/3 [==============================] - 0s 20ms/step - loss: 1.3557 - accuracy: 0.3636 - val_loss: 1.3640 - val_accuracy: 0.3333\n",
            "Epoch 117/400\n",
            "3/3 [==============================] - 0s 21ms/step - loss: 1.3556 - accuracy: 0.3636 - val_loss: 1.3641 - val_accuracy: 0.3333\n",
            "Epoch 118/400\n",
            "3/3 [==============================] - 0s 21ms/step - loss: 1.3556 - accuracy: 0.3636 - val_loss: 1.3643 - val_accuracy: 0.3333\n",
            "Epoch 119/400\n",
            "3/3 [==============================] - 0s 20ms/step - loss: 1.3555 - accuracy: 0.3636 - val_loss: 1.3641 - val_accuracy: 0.3333\n",
            "Epoch 120/400\n",
            "3/3 [==============================] - 0s 20ms/step - loss: 1.3551 - accuracy: 0.3636 - val_loss: 1.3638 - val_accuracy: 0.3333\n",
            "Epoch 121/400\n",
            "3/3 [==============================] - 0s 20ms/step - loss: 1.3549 - accuracy: 0.3636 - val_loss: 1.3640 - val_accuracy: 0.3333\n",
            "Epoch 122/400\n",
            "3/3 [==============================] - 0s 20ms/step - loss: 1.3548 - accuracy: 0.3636 - val_loss: 1.3637 - val_accuracy: 0.3333\n",
            "Epoch 123/400\n",
            "3/3 [==============================] - 0s 19ms/step - loss: 1.3544 - accuracy: 0.3636 - val_loss: 1.3634 - val_accuracy: 0.3333\n",
            "Epoch 124/400\n",
            "3/3 [==============================] - 0s 21ms/step - loss: 1.3543 - accuracy: 0.3636 - val_loss: 1.3634 - val_accuracy: 0.3333\n",
            "Epoch 125/400\n",
            "3/3 [==============================] - 0s 21ms/step - loss: 1.3543 - accuracy: 0.3636 - val_loss: 1.3635 - val_accuracy: 0.3333\n",
            "Epoch 126/400\n",
            "3/3 [==============================] - 0s 20ms/step - loss: 1.3542 - accuracy: 0.3636 - val_loss: 1.3632 - val_accuracy: 0.3333\n",
            "Epoch 127/400\n",
            "3/3 [==============================] - 0s 20ms/step - loss: 1.3541 - accuracy: 0.3636 - val_loss: 1.3634 - val_accuracy: 0.3333\n",
            "Epoch 128/400\n",
            "3/3 [==============================] - 0s 20ms/step - loss: 1.3540 - accuracy: 0.3636 - val_loss: 1.3637 - val_accuracy: 0.3333\n",
            "Epoch 129/400\n",
            "3/3 [==============================] - 0s 19ms/step - loss: 1.3539 - accuracy: 0.3636 - val_loss: 1.3634 - val_accuracy: 0.3333\n",
            "Epoch 130/400\n",
            "3/3 [==============================] - 0s 20ms/step - loss: 1.3535 - accuracy: 0.3636 - val_loss: 1.3635 - val_accuracy: 0.3333\n",
            "Epoch 131/400\n",
            "3/3 [==============================] - 0s 20ms/step - loss: 1.3535 - accuracy: 0.3636 - val_loss: 1.3632 - val_accuracy: 0.3333\n",
            "Epoch 132/400\n",
            "3/3 [==============================] - 0s 20ms/step - loss: 1.3533 - accuracy: 0.3636 - val_loss: 1.3632 - val_accuracy: 0.3333\n",
            "Epoch 133/400\n",
            "3/3 [==============================] - 0s 20ms/step - loss: 1.3533 - accuracy: 0.3636 - val_loss: 1.3630 - val_accuracy: 0.3333\n",
            "Epoch 134/400\n",
            "3/3 [==============================] - 0s 20ms/step - loss: 1.3529 - accuracy: 0.3636 - val_loss: 1.3628 - val_accuracy: 0.3333\n",
            "Epoch 135/400\n",
            "3/3 [==============================] - 0s 20ms/step - loss: 1.3525 - accuracy: 0.3636 - val_loss: 1.3630 - val_accuracy: 0.3333\n",
            "Epoch 136/400\n",
            "3/3 [==============================] - 0s 19ms/step - loss: 1.3525 - accuracy: 0.3636 - val_loss: 1.3627 - val_accuracy: 0.3333\n",
            "Epoch 137/400\n",
            "3/3 [==============================] - 0s 22ms/step - loss: 1.3521 - accuracy: 0.3636 - val_loss: 1.3625 - val_accuracy: 0.3333\n",
            "Epoch 138/400\n",
            "3/3 [==============================] - 0s 19ms/step - loss: 1.3519 - accuracy: 0.3636 - val_loss: 1.3621 - val_accuracy: 0.3333\n",
            "Epoch 139/400\n",
            "3/3 [==============================] - 0s 20ms/step - loss: 1.3518 - accuracy: 0.3636 - val_loss: 1.3621 - val_accuracy: 0.3333\n",
            "Epoch 140/400\n",
            "3/3 [==============================] - 0s 20ms/step - loss: 1.3517 - accuracy: 0.3636 - val_loss: 1.3619 - val_accuracy: 0.3333\n",
            "Epoch 141/400\n",
            "3/3 [==============================] - 0s 21ms/step - loss: 1.3516 - accuracy: 0.3636 - val_loss: 1.3621 - val_accuracy: 0.3333\n",
            "Epoch 142/400\n",
            "3/3 [==============================] - 0s 19ms/step - loss: 1.3516 - accuracy: 0.3636 - val_loss: 1.3624 - val_accuracy: 0.3333\n",
            "Epoch 143/400\n",
            "3/3 [==============================] - 0s 21ms/step - loss: 1.3515 - accuracy: 0.3636 - val_loss: 1.3621 - val_accuracy: 0.3333\n",
            "Epoch 144/400\n",
            "3/3 [==============================] - 0s 21ms/step - loss: 1.3513 - accuracy: 0.3636 - val_loss: 1.3619 - val_accuracy: 0.3333\n",
            "Epoch 145/400\n",
            "3/3 [==============================] - 0s 19ms/step - loss: 1.3512 - accuracy: 0.3636 - val_loss: 1.3615 - val_accuracy: 0.3333\n",
            "Epoch 146/400\n",
            "3/3 [==============================] - 0s 20ms/step - loss: 1.3508 - accuracy: 0.3636 - val_loss: 1.3612 - val_accuracy: 0.3333\n",
            "Epoch 147/400\n",
            "3/3 [==============================] - 0s 20ms/step - loss: 1.3504 - accuracy: 0.3636 - val_loss: 1.3610 - val_accuracy: 0.3333\n",
            "Epoch 148/400\n",
            "3/3 [==============================] - 0s 20ms/step - loss: 1.3503 - accuracy: 0.3636 - val_loss: 1.3612 - val_accuracy: 0.3333\n",
            "Epoch 149/400\n",
            "3/3 [==============================] - 0s 19ms/step - loss: 1.3503 - accuracy: 0.3636 - val_loss: 1.3614 - val_accuracy: 0.3333\n",
            "Epoch 150/400\n",
            "3/3 [==============================] - 0s 19ms/step - loss: 1.3501 - accuracy: 0.3636 - val_loss: 1.3612 - val_accuracy: 0.3333\n",
            "Epoch 151/400\n",
            "3/3 [==============================] - 0s 27ms/step - loss: 1.3498 - accuracy: 0.3636 - val_loss: 1.3615 - val_accuracy: 0.3333\n",
            "Epoch 152/400\n",
            "3/3 [==============================] - 0s 20ms/step - loss: 1.3498 - accuracy: 0.3636 - val_loss: 1.3612 - val_accuracy: 0.3333\n",
            "Epoch 153/400\n",
            "3/3 [==============================] - 0s 20ms/step - loss: 1.3498 - accuracy: 0.3636 - val_loss: 1.3615 - val_accuracy: 0.3333\n",
            "Epoch 154/400\n",
            "3/3 [==============================] - 0s 20ms/step - loss: 1.3497 - accuracy: 0.3636 - val_loss: 1.3612 - val_accuracy: 0.3333\n",
            "Epoch 155/400\n",
            "3/3 [==============================] - 0s 21ms/step - loss: 1.3493 - accuracy: 0.3636 - val_loss: 1.3611 - val_accuracy: 0.3333\n",
            "Epoch 156/400\n",
            "3/3 [==============================] - 0s 21ms/step - loss: 1.3492 - accuracy: 0.3636 - val_loss: 1.3614 - val_accuracy: 0.3333\n",
            "Epoch 157/400\n",
            "3/3 [==============================] - 0s 20ms/step - loss: 1.3491 - accuracy: 0.3636 - val_loss: 1.3611 - val_accuracy: 0.3333\n",
            "Epoch 158/400\n",
            "3/3 [==============================] - 0s 20ms/step - loss: 1.3490 - accuracy: 0.3636 - val_loss: 1.3614 - val_accuracy: 0.3333\n",
            "Epoch 159/400\n",
            "3/3 [==============================] - 0s 19ms/step - loss: 1.3490 - accuracy: 0.3636 - val_loss: 1.3611 - val_accuracy: 0.3333\n",
            "Epoch 160/400\n",
            "3/3 [==============================] - 0s 19ms/step - loss: 1.3488 - accuracy: 0.3636 - val_loss: 1.3608 - val_accuracy: 0.3333\n",
            "Epoch 161/400\n",
            "3/3 [==============================] - 0s 20ms/step - loss: 1.3483 - accuracy: 0.3636 - val_loss: 1.3606 - val_accuracy: 0.3333\n",
            "Epoch 162/400\n",
            "3/3 [==============================] - 0s 20ms/step - loss: 1.3480 - accuracy: 0.3636 - val_loss: 1.3603 - val_accuracy: 0.3333\n",
            "Epoch 163/400\n",
            "3/3 [==============================] - 0s 20ms/step - loss: 1.3478 - accuracy: 0.3636 - val_loss: 1.3603 - val_accuracy: 0.3333\n",
            "Epoch 164/400\n",
            "3/3 [==============================] - 0s 21ms/step - loss: 1.3477 - accuracy: 0.3636 - val_loss: 1.3601 - val_accuracy: 0.3333\n",
            "Epoch 165/400\n",
            "3/3 [==============================] - 0s 20ms/step - loss: 1.3476 - accuracy: 0.3636 - val_loss: 1.3602 - val_accuracy: 0.3333\n",
            "Epoch 166/400\n",
            "3/3 [==============================] - 0s 19ms/step - loss: 1.3474 - accuracy: 0.3636 - val_loss: 1.3599 - val_accuracy: 0.3333\n",
            "Epoch 167/400\n",
            "3/3 [==============================] - 0s 20ms/step - loss: 1.3473 - accuracy: 0.3636 - val_loss: 1.3597 - val_accuracy: 0.3333\n",
            "Epoch 168/400\n",
            "3/3 [==============================] - 0s 20ms/step - loss: 1.3472 - accuracy: 0.3636 - val_loss: 1.3594 - val_accuracy: 0.3333\n",
            "Epoch 169/400\n",
            "3/3 [==============================] - 0s 20ms/step - loss: 1.3468 - accuracy: 0.3636 - val_loss: 1.3591 - val_accuracy: 0.3333\n",
            "Epoch 170/400\n",
            "3/3 [==============================] - 0s 21ms/step - loss: 1.3464 - accuracy: 0.3636 - val_loss: 1.3589 - val_accuracy: 0.3333\n",
            "Epoch 171/400\n",
            "3/3 [==============================] - 0s 20ms/step - loss: 1.3463 - accuracy: 0.3636 - val_loss: 1.3589 - val_accuracy: 0.3333\n",
            "Epoch 172/400\n",
            "3/3 [==============================] - 0s 20ms/step - loss: 1.3462 - accuracy: 0.3636 - val_loss: 1.3587 - val_accuracy: 0.3333\n",
            "Epoch 173/400\n",
            "3/3 [==============================] - 0s 20ms/step - loss: 1.3462 - accuracy: 0.3636 - val_loss: 1.3587 - val_accuracy: 0.3333\n",
            "Epoch 174/400\n",
            "3/3 [==============================] - 0s 21ms/step - loss: 1.3461 - accuracy: 0.3636 - val_loss: 1.3583 - val_accuracy: 0.3333\n",
            "Epoch 175/400\n",
            "3/3 [==============================] - 0s 22ms/step - loss: 1.3460 - accuracy: 0.3636 - val_loss: 1.3580 - val_accuracy: 0.3333\n",
            "Epoch 176/400\n",
            "3/3 [==============================] - 0s 20ms/step - loss: 1.3457 - accuracy: 0.3636 - val_loss: 1.3581 - val_accuracy: 0.3333\n",
            "Epoch 177/400\n",
            "3/3 [==============================] - 0s 19ms/step - loss: 1.3456 - accuracy: 0.3636 - val_loss: 1.3578 - val_accuracy: 0.3333\n",
            "Epoch 178/400\n",
            "3/3 [==============================] - 0s 19ms/step - loss: 1.3451 - accuracy: 0.3636 - val_loss: 1.3576 - val_accuracy: 0.3333\n",
            "Epoch 179/400\n",
            "3/3 [==============================] - 0s 21ms/step - loss: 1.3449 - accuracy: 0.3636 - val_loss: 1.3573 - val_accuracy: 0.3333\n",
            "Epoch 180/400\n",
            "3/3 [==============================] - 0s 19ms/step - loss: 1.3448 - accuracy: 0.3636 - val_loss: 1.3571 - val_accuracy: 0.3333\n",
            "Epoch 181/400\n",
            "3/3 [==============================] - 0s 20ms/step - loss: 1.3444 - accuracy: 0.3636 - val_loss: 1.3574 - val_accuracy: 0.3333\n",
            "Epoch 182/400\n",
            "3/3 [==============================] - 0s 20ms/step - loss: 1.3444 - accuracy: 0.3636 - val_loss: 1.3571 - val_accuracy: 0.3333\n",
            "Epoch 183/400\n",
            "3/3 [==============================] - 0s 25ms/step - loss: 1.3439 - accuracy: 0.3636 - val_loss: 1.3569 - val_accuracy: 0.3333\n",
            "Epoch 184/400\n",
            "3/3 [==============================] - 0s 20ms/step - loss: 1.3438 - accuracy: 0.3636 - val_loss: 1.3567 - val_accuracy: 0.3333\n",
            "Epoch 185/400\n",
            "3/3 [==============================] - 0s 20ms/step - loss: 1.3434 - accuracy: 0.3636 - val_loss: 1.3564 - val_accuracy: 0.3333\n",
            "Epoch 186/400\n",
            "3/3 [==============================] - 0s 19ms/step - loss: 1.3433 - accuracy: 0.3636 - val_loss: 1.3562 - val_accuracy: 0.3333\n",
            "Epoch 187/400\n",
            "3/3 [==============================] - 0s 19ms/step - loss: 1.3430 - accuracy: 0.3636 - val_loss: 1.3565 - val_accuracy: 0.3333\n",
            "Epoch 188/400\n",
            "3/3 [==============================] - 0s 20ms/step - loss: 1.3429 - accuracy: 0.3636 - val_loss: 1.3563 - val_accuracy: 0.3333\n",
            "Epoch 189/400\n",
            "3/3 [==============================] - 0s 20ms/step - loss: 1.3425 - accuracy: 0.3636 - val_loss: 1.3561 - val_accuracy: 0.3333\n",
            "Epoch 190/400\n",
            "3/3 [==============================] - 0s 20ms/step - loss: 1.3422 - accuracy: 0.3636 - val_loss: 1.3561 - val_accuracy: 0.3333\n",
            "Epoch 191/400\n",
            "3/3 [==============================] - 0s 20ms/step - loss: 1.3421 - accuracy: 0.3636 - val_loss: 1.3563 - val_accuracy: 0.3333\n",
            "Epoch 192/400\n",
            "3/3 [==============================] - 0s 20ms/step - loss: 1.3420 - accuracy: 0.3636 - val_loss: 1.3560 - val_accuracy: 0.3333\n",
            "Epoch 193/400\n",
            "3/3 [==============================] - 0s 20ms/step - loss: 1.3419 - accuracy: 0.3636 - val_loss: 1.3558 - val_accuracy: 0.3333\n",
            "Epoch 194/400\n",
            "3/3 [==============================] - 0s 23ms/step - loss: 1.3416 - accuracy: 0.3636 - val_loss: 1.3556 - val_accuracy: 0.3333\n",
            "Epoch 195/400\n",
            "3/3 [==============================] - 0s 20ms/step - loss: 1.3412 - accuracy: 0.3636 - val_loss: 1.3553 - val_accuracy: 0.3333\n",
            "Epoch 196/400\n",
            "3/3 [==============================] - 0s 19ms/step - loss: 1.3409 - accuracy: 0.3636 - val_loss: 1.3550 - val_accuracy: 0.3333\n",
            "Epoch 197/400\n",
            "3/3 [==============================] - 0s 20ms/step - loss: 1.3407 - accuracy: 0.3636 - val_loss: 1.3549 - val_accuracy: 0.3333\n",
            "Epoch 198/400\n",
            "3/3 [==============================] - 0s 20ms/step - loss: 1.3404 - accuracy: 0.3636 - val_loss: 1.3549 - val_accuracy: 0.3333\n",
            "Epoch 199/400\n",
            "3/3 [==============================] - 0s 19ms/step - loss: 1.3404 - accuracy: 0.3636 - val_loss: 1.3549 - val_accuracy: 0.3333\n",
            "Epoch 200/400\n",
            "3/3 [==============================] - 0s 20ms/step - loss: 1.3403 - accuracy: 0.3636 - val_loss: 1.3546 - val_accuracy: 0.3333\n",
            "Epoch 201/400\n",
            "3/3 [==============================] - 0s 19ms/step - loss: 1.3403 - accuracy: 0.3636 - val_loss: 1.3547 - val_accuracy: 0.3333\n",
            "Epoch 202/400\n",
            "3/3 [==============================] - 0s 19ms/step - loss: 1.3403 - accuracy: 0.3636 - val_loss: 1.3550 - val_accuracy: 0.3333\n",
            "Epoch 203/400\n",
            "3/3 [==============================] - 0s 21ms/step - loss: 1.3402 - accuracy: 0.3636 - val_loss: 1.3548 - val_accuracy: 0.3333\n",
            "Epoch 204/400\n",
            "3/3 [==============================] - 0s 20ms/step - loss: 1.3398 - accuracy: 0.3636 - val_loss: 1.3545 - val_accuracy: 0.3333\n",
            "Epoch 205/400\n",
            "3/3 [==============================] - 0s 20ms/step - loss: 1.3397 - accuracy: 0.3636 - val_loss: 1.3543 - val_accuracy: 0.3333\n",
            "Epoch 206/400\n",
            "3/3 [==============================] - 0s 19ms/step - loss: 1.3393 - accuracy: 0.3636 - val_loss: 1.3540 - val_accuracy: 0.3333\n",
            "Epoch 207/400\n",
            "3/3 [==============================] - 0s 20ms/step - loss: 1.3392 - accuracy: 0.3636 - val_loss: 1.3537 - val_accuracy: 0.3333\n",
            "Epoch 208/400\n",
            "3/3 [==============================] - 0s 20ms/step - loss: 1.3389 - accuracy: 0.3636 - val_loss: 1.3540 - val_accuracy: 0.3333\n",
            "Epoch 209/400\n",
            "3/3 [==============================] - 0s 22ms/step - loss: 1.3389 - accuracy: 0.3636 - val_loss: 1.3539 - val_accuracy: 0.3333\n",
            "Epoch 210/400\n",
            "3/3 [==============================] - 0s 20ms/step - loss: 1.3386 - accuracy: 0.3636 - val_loss: 1.3539 - val_accuracy: 0.3333\n",
            "Epoch 211/400\n",
            "3/3 [==============================] - 0s 24ms/step - loss: 1.3385 - accuracy: 0.3636 - val_loss: 1.3542 - val_accuracy: 0.3333\n",
            "Epoch 212/400\n",
            "3/3 [==============================] - 0s 20ms/step - loss: 1.3385 - accuracy: 0.3636 - val_loss: 1.3542 - val_accuracy: 0.3333\n",
            "Epoch 213/400\n",
            "3/3 [==============================] - 0s 22ms/step - loss: 1.3384 - accuracy: 0.3636 - val_loss: 1.3540 - val_accuracy: 0.3333\n",
            "Epoch 214/400\n",
            "3/3 [==============================] - 0s 19ms/step - loss: 1.3382 - accuracy: 0.3636 - val_loss: 1.3539 - val_accuracy: 0.3333\n",
            "Epoch 215/400\n",
            "3/3 [==============================] - 0s 20ms/step - loss: 1.3379 - accuracy: 0.3636 - val_loss: 1.3536 - val_accuracy: 0.3333\n",
            "Epoch 216/400\n",
            "3/3 [==============================] - 0s 20ms/step - loss: 1.3377 - accuracy: 0.3636 - val_loss: 1.3533 - val_accuracy: 0.3333\n",
            "Epoch 217/400\n",
            "3/3 [==============================] - 0s 21ms/step - loss: 1.3375 - accuracy: 0.3636 - val_loss: 1.3534 - val_accuracy: 0.3333\n",
            "Epoch 218/400\n",
            "3/3 [==============================] - 0s 22ms/step - loss: 1.3374 - accuracy: 0.3636 - val_loss: 1.3535 - val_accuracy: 0.3333\n",
            "Epoch 219/400\n",
            "3/3 [==============================] - 0s 21ms/step - loss: 1.3374 - accuracy: 0.3636 - val_loss: 1.3535 - val_accuracy: 0.3333\n",
            "Epoch 220/400\n",
            "3/3 [==============================] - 0s 20ms/step - loss: 1.3373 - accuracy: 0.3636 - val_loss: 1.3533 - val_accuracy: 0.3333\n",
            "Epoch 221/400\n",
            "3/3 [==============================] - 0s 20ms/step - loss: 1.3372 - accuracy: 0.3636 - val_loss: 1.3533 - val_accuracy: 0.3333\n",
            "Epoch 222/400\n",
            "3/3 [==============================] - 0s 20ms/step - loss: 1.3372 - accuracy: 0.3636 - val_loss: 1.3530 - val_accuracy: 0.3333\n",
            "Epoch 223/400\n",
            "3/3 [==============================] - 0s 19ms/step - loss: 1.3371 - accuracy: 0.3636 - val_loss: 1.3531 - val_accuracy: 0.3333\n",
            "Epoch 224/400\n",
            "3/3 [==============================] - 0s 21ms/step - loss: 1.3371 - accuracy: 0.3636 - val_loss: 1.3529 - val_accuracy: 0.3333\n",
            "Epoch 225/400\n",
            "3/3 [==============================] - 0s 20ms/step - loss: 1.3367 - accuracy: 0.3636 - val_loss: 1.3532 - val_accuracy: 0.3333\n",
            "Epoch 226/400\n",
            "3/3 [==============================] - 0s 20ms/step - loss: 1.3367 - accuracy: 0.3636 - val_loss: 1.3530 - val_accuracy: 0.3333\n",
            "Epoch 227/400\n",
            "3/3 [==============================] - 0s 20ms/step - loss: 1.3363 - accuracy: 0.3636 - val_loss: 1.3528 - val_accuracy: 0.3333\n",
            "Epoch 228/400\n",
            "3/3 [==============================] - 0s 20ms/step - loss: 1.3360 - accuracy: 0.3636 - val_loss: 1.3525 - val_accuracy: 0.3333\n",
            "Epoch 229/400\n",
            "3/3 [==============================] - 0s 20ms/step - loss: 1.3359 - accuracy: 0.3636 - val_loss: 1.3523 - val_accuracy: 0.3333\n",
            "Epoch 230/400\n",
            "3/3 [==============================] - 0s 20ms/step - loss: 1.3356 - accuracy: 0.3636 - val_loss: 1.3526 - val_accuracy: 0.3333\n",
            "Epoch 231/400\n",
            "3/3 [==============================] - 0s 20ms/step - loss: 1.3354 - accuracy: 0.3636 - val_loss: 1.3525 - val_accuracy: 0.3333\n",
            "Epoch 232/400\n",
            "3/3 [==============================] - 0s 23ms/step - loss: 1.3352 - accuracy: 0.3636 - val_loss: 1.3525 - val_accuracy: 0.3333\n",
            "Epoch 233/400\n",
            "3/3 [==============================] - 0s 20ms/step - loss: 1.3353 - accuracy: 0.3636 - val_loss: 1.3528 - val_accuracy: 0.3333\n",
            "Epoch 234/400\n",
            "3/3 [==============================] - 0s 19ms/step - loss: 1.3351 - accuracy: 0.3636 - val_loss: 1.3526 - val_accuracy: 0.3333\n",
            "Epoch 235/400\n",
            "3/3 [==============================] - 0s 20ms/step - loss: 1.3348 - accuracy: 0.3636 - val_loss: 1.3524 - val_accuracy: 0.3333\n",
            "Epoch 236/400\n",
            "3/3 [==============================] - 0s 21ms/step - loss: 1.3345 - accuracy: 0.3636 - val_loss: 1.3521 - val_accuracy: 0.3333\n",
            "Epoch 237/400\n",
            "3/3 [==============================] - 0s 20ms/step - loss: 1.3344 - accuracy: 0.3636 - val_loss: 1.3519 - val_accuracy: 0.3333\n",
            "Epoch 238/400\n",
            "3/3 [==============================] - 0s 21ms/step - loss: 1.3342 - accuracy: 0.3636 - val_loss: 1.3516 - val_accuracy: 0.3333\n",
            "Epoch 239/400\n",
            "3/3 [==============================] - 0s 22ms/step - loss: 1.3340 - accuracy: 0.3636 - val_loss: 1.3517 - val_accuracy: 0.3333\n",
            "Epoch 240/400\n",
            "3/3 [==============================] - 0s 21ms/step - loss: 1.3339 - accuracy: 0.3636 - val_loss: 1.3514 - val_accuracy: 0.3333\n",
            "Epoch 241/400\n",
            "3/3 [==============================] - 0s 21ms/step - loss: 1.3338 - accuracy: 0.3636 - val_loss: 1.3515 - val_accuracy: 0.3333\n",
            "Epoch 242/400\n",
            "3/3 [==============================] - 0s 20ms/step - loss: 1.3337 - accuracy: 0.3636 - val_loss: 1.3513 - val_accuracy: 0.3333\n",
            "Epoch 243/400\n",
            "3/3 [==============================] - 0s 20ms/step - loss: 1.3335 - accuracy: 0.3636 - val_loss: 1.3510 - val_accuracy: 0.3333\n",
            "Epoch 244/400\n",
            "3/3 [==============================] - 0s 20ms/step - loss: 1.3333 - accuracy: 0.3636 - val_loss: 1.3512 - val_accuracy: 0.3333\n",
            "Epoch 245/400\n",
            "3/3 [==============================] - 0s 20ms/step - loss: 1.3332 - accuracy: 0.3636 - val_loss: 1.3511 - val_accuracy: 0.3333\n",
            "Epoch 246/400\n",
            "3/3 [==============================] - 0s 19ms/step - loss: 1.3329 - accuracy: 0.3636 - val_loss: 1.3509 - val_accuracy: 0.3333\n",
            "Epoch 247/400\n",
            "3/3 [==============================] - 0s 20ms/step - loss: 1.3326 - accuracy: 0.3636 - val_loss: 1.3506 - val_accuracy: 0.3333\n",
            "Epoch 248/400\n",
            "3/3 [==============================] - 0s 21ms/step - loss: 1.3324 - accuracy: 0.3636 - val_loss: 1.3504 - val_accuracy: 0.3333\n",
            "Epoch 249/400\n",
            "3/3 [==============================] - 0s 20ms/step - loss: 1.3320 - accuracy: 0.3636 - val_loss: 1.3501 - val_accuracy: 0.3333\n",
            "Epoch 250/400\n",
            "3/3 [==============================] - 0s 19ms/step - loss: 1.3320 - accuracy: 0.3636 - val_loss: 1.3499 - val_accuracy: 0.3333\n",
            "Epoch 251/400\n",
            "3/3 [==============================] - 0s 22ms/step - loss: 1.3318 - accuracy: 0.3636 - val_loss: 1.3502 - val_accuracy: 0.3333\n",
            "Epoch 252/400\n",
            "3/3 [==============================] - 0s 21ms/step - loss: 1.3317 - accuracy: 0.3636 - val_loss: 1.3505 - val_accuracy: 0.3333\n",
            "Epoch 253/400\n",
            "3/3 [==============================] - 0s 20ms/step - loss: 1.3318 - accuracy: 0.3636 - val_loss: 1.3503 - val_accuracy: 0.3333\n",
            "Epoch 254/400\n",
            "3/3 [==============================] - 0s 21ms/step - loss: 1.3314 - accuracy: 0.3636 - val_loss: 1.3503 - val_accuracy: 0.3333\n",
            "Epoch 255/400\n",
            "3/3 [==============================] - 0s 20ms/step - loss: 1.3313 - accuracy: 0.3636 - val_loss: 1.3499 - val_accuracy: 0.3333\n",
            "Epoch 256/400\n",
            "3/3 [==============================] - 0s 20ms/step - loss: 1.3312 - accuracy: 0.3636 - val_loss: 1.3497 - val_accuracy: 0.3333\n",
            "Epoch 257/400\n",
            "3/3 [==============================] - 0s 19ms/step - loss: 1.3309 - accuracy: 0.3636 - val_loss: 1.3492 - val_accuracy: 0.3333\n",
            "Epoch 258/400\n",
            "3/3 [==============================] - 0s 19ms/step - loss: 1.3309 - accuracy: 0.3636 - val_loss: 1.3491 - val_accuracy: 0.3333\n",
            "Epoch 259/400\n",
            "3/3 [==============================] - 0s 20ms/step - loss: 1.3306 - accuracy: 0.3636 - val_loss: 1.3494 - val_accuracy: 0.3333\n",
            "Epoch 260/400\n",
            "3/3 [==============================] - 0s 21ms/step - loss: 1.3306 - accuracy: 0.3636 - val_loss: 1.3493 - val_accuracy: 0.3333\n",
            "Epoch 261/400\n",
            "3/3 [==============================] - 0s 19ms/step - loss: 1.3303 - accuracy: 0.3636 - val_loss: 1.3493 - val_accuracy: 0.3333\n",
            "Epoch 262/400\n",
            "3/3 [==============================] - 0s 21ms/step - loss: 1.3301 - accuracy: 0.3636 - val_loss: 1.3491 - val_accuracy: 0.3333\n",
            "Epoch 263/400\n",
            "3/3 [==============================] - 0s 20ms/step - loss: 1.3297 - accuracy: 0.3636 - val_loss: 1.3489 - val_accuracy: 0.3333\n",
            "Epoch 264/400\n",
            "3/3 [==============================] - 0s 24ms/step - loss: 1.3294 - accuracy: 0.3636 - val_loss: 1.3490 - val_accuracy: 0.3333\n",
            "Epoch 265/400\n",
            "3/3 [==============================] - 0s 20ms/step - loss: 1.3293 - accuracy: 0.3636 - val_loss: 1.3493 - val_accuracy: 0.3333\n",
            "Epoch 266/400\n",
            "3/3 [==============================] - 0s 20ms/step - loss: 1.3293 - accuracy: 0.3636 - val_loss: 1.3497 - val_accuracy: 0.3333\n",
            "Epoch 267/400\n",
            "3/3 [==============================] - 0s 19ms/step - loss: 1.3293 - accuracy: 0.3636 - val_loss: 1.3498 - val_accuracy: 0.3333\n",
            "Epoch 268/400\n",
            "3/3 [==============================] - 0s 20ms/step - loss: 1.3292 - accuracy: 0.3636 - val_loss: 1.3496 - val_accuracy: 0.3333\n",
            "Epoch 269/400\n",
            "3/3 [==============================] - 0s 19ms/step - loss: 1.3290 - accuracy: 0.3636 - val_loss: 1.3494 - val_accuracy: 0.3333\n",
            "Epoch 270/400\n",
            "3/3 [==============================] - 0s 22ms/step - loss: 1.3286 - accuracy: 0.3636 - val_loss: 1.3490 - val_accuracy: 0.3333\n",
            "Epoch 271/400\n",
            "3/3 [==============================] - 0s 19ms/step - loss: 1.3285 - accuracy: 0.3636 - val_loss: 1.3490 - val_accuracy: 0.3333\n",
            "Epoch 272/400\n",
            "3/3 [==============================] - 0s 20ms/step - loss: 1.3283 - accuracy: 0.3636 - val_loss: 1.3493 - val_accuracy: 0.3333\n",
            "Epoch 273/400\n",
            "3/3 [==============================] - 0s 19ms/step - loss: 1.3282 - accuracy: 0.3636 - val_loss: 1.3497 - val_accuracy: 0.3333\n",
            "Epoch 274/400\n",
            "3/3 [==============================] - 0s 19ms/step - loss: 1.3283 - accuracy: 0.3636 - val_loss: 1.3501 - val_accuracy: 0.3333\n",
            "Epoch 275/400\n",
            "3/3 [==============================] - 0s 20ms/step - loss: 1.3282 - accuracy: 0.3636 - val_loss: 1.3501 - val_accuracy: 0.3333\n",
            "Epoch 276/400\n",
            "3/3 [==============================] - 0s 19ms/step - loss: 1.3282 - accuracy: 0.3636 - val_loss: 1.3504 - val_accuracy: 0.3333\n",
            "Epoch 277/400\n",
            "3/3 [==============================] - 0s 20ms/step - loss: 1.3282 - accuracy: 0.3636 - val_loss: 1.3499 - val_accuracy: 0.3333\n",
            "Epoch 278/400\n",
            "3/3 [==============================] - 0s 19ms/step - loss: 1.3280 - accuracy: 0.3636 - val_loss: 1.3499 - val_accuracy: 0.3333\n",
            "Epoch 279/400\n",
            "3/3 [==============================] - 0s 20ms/step - loss: 1.3280 - accuracy: 0.3636 - val_loss: 1.3497 - val_accuracy: 0.3333\n",
            "Epoch 280/400\n",
            "3/3 [==============================] - 0s 21ms/step - loss: 1.3277 - accuracy: 0.3636 - val_loss: 1.3500 - val_accuracy: 0.3333\n",
            "Epoch 281/400\n",
            "3/3 [==============================] - 0s 22ms/step - loss: 1.3276 - accuracy: 0.3636 - val_loss: 1.3501 - val_accuracy: 0.3333\n",
            "Epoch 282/400\n",
            "3/3 [==============================] - 0s 20ms/step - loss: 1.3275 - accuracy: 0.3636 - val_loss: 1.3499 - val_accuracy: 0.3333\n",
            "Epoch 283/400\n",
            "3/3 [==============================] - 0s 21ms/step - loss: 1.3274 - accuracy: 0.3636 - val_loss: 1.3497 - val_accuracy: 0.3333\n",
            "Epoch 284/400\n",
            "3/3 [==============================] - 0s 20ms/step - loss: 1.3271 - accuracy: 0.3636 - val_loss: 1.3500 - val_accuracy: 0.3333\n",
            "Epoch 285/400\n",
            "3/3 [==============================] - 0s 19ms/step - loss: 1.3270 - accuracy: 0.3636 - val_loss: 1.3499 - val_accuracy: 0.3333\n",
            "Epoch 286/400\n",
            "3/3 [==============================] - 0s 20ms/step - loss: 1.3267 - accuracy: 0.3636 - val_loss: 1.3502 - val_accuracy: 0.3333\n",
            "Epoch 287/400\n",
            "3/3 [==============================] - 0s 20ms/step - loss: 1.3267 - accuracy: 0.3636 - val_loss: 1.3500 - val_accuracy: 0.3333\n",
            "Epoch 288/400\n",
            "3/3 [==============================] - 0s 20ms/step - loss: 1.3264 - accuracy: 0.3636 - val_loss: 1.3497 - val_accuracy: 0.3333\n",
            "Epoch 289/400\n",
            "3/3 [==============================] - 0s 26ms/step - loss: 1.3263 - accuracy: 0.3636 - val_loss: 1.3500 - val_accuracy: 0.3333\n",
            "Epoch 290/400\n",
            "3/3 [==============================] - 0s 21ms/step - loss: 1.3262 - accuracy: 0.3636 - val_loss: 1.3499 - val_accuracy: 0.3333\n",
            "Epoch 291/400\n",
            "3/3 [==============================] - 0s 20ms/step - loss: 1.3261 - accuracy: 0.3636 - val_loss: 1.3499 - val_accuracy: 0.3333\n",
            "Epoch 292/400\n",
            "3/3 [==============================] - 0s 20ms/step - loss: 1.3261 - accuracy: 0.3636 - val_loss: 1.3495 - val_accuracy: 0.3333\n",
            "Epoch 293/400\n",
            "3/3 [==============================] - 0s 21ms/step - loss: 1.3258 - accuracy: 0.3636 - val_loss: 1.3493 - val_accuracy: 0.3333\n",
            "Epoch 294/400\n",
            "3/3 [==============================] - 0s 27ms/step - loss: 1.3256 - accuracy: 0.3636 - val_loss: 1.3490 - val_accuracy: 0.3333\n",
            "Epoch 295/400\n",
            "3/3 [==============================] - 0s 21ms/step - loss: 1.3254 - accuracy: 0.3636 - val_loss: 1.3490 - val_accuracy: 0.3333\n",
            "Epoch 296/400\n",
            "3/3 [==============================] - 0s 20ms/step - loss: 1.3254 - accuracy: 0.3636 - val_loss: 1.3493 - val_accuracy: 0.3333\n",
            "Epoch 297/400\n",
            "3/3 [==============================] - 0s 19ms/step - loss: 1.3253 - accuracy: 0.3636 - val_loss: 1.3491 - val_accuracy: 0.3333\n",
            "Epoch 298/400\n",
            "3/3 [==============================] - 0s 20ms/step - loss: 1.3250 - accuracy: 0.3636 - val_loss: 1.3489 - val_accuracy: 0.3333\n",
            "Epoch 299/400\n",
            "3/3 [==============================] - 0s 19ms/step - loss: 1.3247 - accuracy: 0.3636 - val_loss: 1.3493 - val_accuracy: 0.3333\n",
            "Epoch 300/400\n",
            "3/3 [==============================] - 0s 20ms/step - loss: 1.3247 - accuracy: 0.3636 - val_loss: 1.3489 - val_accuracy: 0.3333\n",
            "Epoch 301/400\n",
            "3/3 [==============================] - 0s 22ms/step - loss: 1.3246 - accuracy: 0.3636 - val_loss: 1.3487 - val_accuracy: 0.3333\n",
            "Epoch 302/400\n",
            "3/3 [==============================] - 0s 20ms/step - loss: 1.3244 - accuracy: 0.3636 - val_loss: 1.3489 - val_accuracy: 0.3333\n",
            "Epoch 303/400\n",
            "3/3 [==============================] - 0s 20ms/step - loss: 1.3242 - accuracy: 0.3636 - val_loss: 1.3486 - val_accuracy: 0.3333\n",
            "Epoch 304/400\n",
            "3/3 [==============================] - 0s 21ms/step - loss: 1.3241 - accuracy: 0.3636 - val_loss: 1.3484 - val_accuracy: 0.3333\n",
            "Epoch 305/400\n",
            "3/3 [==============================] - 0s 21ms/step - loss: 1.3238 - accuracy: 0.3636 - val_loss: 1.3482 - val_accuracy: 0.3333\n",
            "Epoch 306/400\n",
            "3/3 [==============================] - 0s 20ms/step - loss: 1.3235 - accuracy: 0.3636 - val_loss: 1.3481 - val_accuracy: 0.3333\n",
            "Epoch 307/400\n",
            "3/3 [==============================] - 0s 20ms/step - loss: 1.3232 - accuracy: 0.3636 - val_loss: 1.3479 - val_accuracy: 0.3333\n",
            "Epoch 308/400\n",
            "3/3 [==============================] - 0s 21ms/step - loss: 1.3230 - accuracy: 0.3636 - val_loss: 1.3479 - val_accuracy: 0.3333\n",
            "Epoch 309/400\n",
            "3/3 [==============================] - 0s 18ms/step - loss: 1.3230 - accuracy: 0.3636 - val_loss: 1.3479 - val_accuracy: 0.3333\n",
            "Epoch 310/400\n",
            "3/3 [==============================] - 0s 19ms/step - loss: 1.3229 - accuracy: 0.3636 - val_loss: 1.3482 - val_accuracy: 0.3333\n",
            "Epoch 311/400\n",
            "3/3 [==============================] - 0s 23ms/step - loss: 1.3229 - accuracy: 0.3636 - val_loss: 1.3480 - val_accuracy: 0.3333\n",
            "Epoch 312/400\n",
            "3/3 [==============================] - 0s 20ms/step - loss: 1.3227 - accuracy: 0.3636 - val_loss: 1.3476 - val_accuracy: 0.3333\n",
            "Epoch 313/400\n",
            "3/3 [==============================] - 0s 19ms/step - loss: 1.3224 - accuracy: 0.3636 - val_loss: 1.3475 - val_accuracy: 0.3333\n",
            "Epoch 314/400\n",
            "3/3 [==============================] - 0s 20ms/step - loss: 1.3222 - accuracy: 0.3636 - val_loss: 1.3475 - val_accuracy: 0.3333\n",
            "Epoch 315/400\n",
            "3/3 [==============================] - 0s 19ms/step - loss: 1.3222 - accuracy: 0.3636 - val_loss: 1.3472 - val_accuracy: 0.3333\n",
            "Epoch 316/400\n",
            "3/3 [==============================] - 0s 20ms/step - loss: 1.3220 - accuracy: 0.3636 - val_loss: 1.3470 - val_accuracy: 0.3333\n",
            "Epoch 317/400\n",
            "3/3 [==============================] - 0s 19ms/step - loss: 1.3218 - accuracy: 0.3636 - val_loss: 1.3467 - val_accuracy: 0.3333\n",
            "Epoch 318/400\n",
            "3/3 [==============================] - 0s 20ms/step - loss: 1.3216 - accuracy: 0.3636 - val_loss: 1.3465 - val_accuracy: 0.3333\n",
            "Epoch 319/400\n",
            "3/3 [==============================] - 0s 21ms/step - loss: 1.3213 - accuracy: 0.3636 - val_loss: 1.3469 - val_accuracy: 0.3333\n",
            "Epoch 320/400\n",
            "3/3 [==============================] - 0s 21ms/step - loss: 1.3212 - accuracy: 0.3636 - val_loss: 1.3468 - val_accuracy: 0.3333\n",
            "Epoch 321/400\n",
            "3/3 [==============================] - 0s 20ms/step - loss: 1.3210 - accuracy: 0.3636 - val_loss: 1.3466 - val_accuracy: 0.3333\n",
            "Epoch 322/400\n",
            "3/3 [==============================] - 0s 21ms/step - loss: 1.3207 - accuracy: 0.3636 - val_loss: 1.3465 - val_accuracy: 0.3333\n",
            "Epoch 323/400\n",
            "3/3 [==============================] - 0s 20ms/step - loss: 1.3205 - accuracy: 0.3636 - val_loss: 1.3464 - val_accuracy: 0.3333\n",
            "Epoch 324/400\n",
            "3/3 [==============================] - 0s 20ms/step - loss: 1.3203 - accuracy: 0.3636 - val_loss: 1.3460 - val_accuracy: 0.3333\n",
            "Epoch 325/400\n",
            "3/3 [==============================] - 0s 21ms/step - loss: 1.3201 - accuracy: 0.3636 - val_loss: 1.3458 - val_accuracy: 0.3333\n",
            "Epoch 326/400\n",
            "3/3 [==============================] - 0s 21ms/step - loss: 1.3198 - accuracy: 0.3636 - val_loss: 1.3455 - val_accuracy: 0.3333\n",
            "Epoch 327/400\n",
            "3/3 [==============================] - 0s 20ms/step - loss: 1.3197 - accuracy: 0.3636 - val_loss: 1.3453 - val_accuracy: 0.3333\n",
            "Epoch 328/400\n",
            "3/3 [==============================] - 0s 19ms/step - loss: 1.3194 - accuracy: 0.3636 - val_loss: 1.3457 - val_accuracy: 0.3333\n",
            "Epoch 329/400\n",
            "3/3 [==============================] - 0s 20ms/step - loss: 1.3194 - accuracy: 0.3636 - val_loss: 1.3453 - val_accuracy: 0.3333\n",
            "Epoch 330/400\n",
            "3/3 [==============================] - 0s 20ms/step - loss: 1.3192 - accuracy: 0.3636 - val_loss: 1.3457 - val_accuracy: 0.3333\n",
            "Epoch 331/400\n",
            "3/3 [==============================] - 0s 22ms/step - loss: 1.3192 - accuracy: 0.3636 - val_loss: 1.3456 - val_accuracy: 0.3333\n",
            "Epoch 332/400\n",
            "3/3 [==============================] - 0s 20ms/step - loss: 1.3189 - accuracy: 0.3636 - val_loss: 1.3454 - val_accuracy: 0.3333\n",
            "Epoch 333/400\n",
            "3/3 [==============================] - 0s 20ms/step - loss: 1.3189 - accuracy: 0.3636 - val_loss: 1.3458 - val_accuracy: 0.3333\n",
            "Epoch 334/400\n",
            "3/3 [==============================] - 0s 20ms/step - loss: 1.3188 - accuracy: 0.3636 - val_loss: 1.3456 - val_accuracy: 0.3333\n",
            "Epoch 335/400\n",
            "3/3 [==============================] - 0s 20ms/step - loss: 1.3185 - accuracy: 0.3636 - val_loss: 1.3452 - val_accuracy: 0.3333\n",
            "Epoch 336/400\n",
            "3/3 [==============================] - 0s 20ms/step - loss: 1.3183 - accuracy: 0.3636 - val_loss: 1.3451 - val_accuracy: 0.3333\n",
            "Epoch 337/400\n",
            "3/3 [==============================] - 0s 20ms/step - loss: 1.3181 - accuracy: 0.3636 - val_loss: 1.3447 - val_accuracy: 0.3333\n",
            "Epoch 338/400\n",
            "3/3 [==============================] - 0s 21ms/step - loss: 1.3180 - accuracy: 0.3636 - val_loss: 1.3443 - val_accuracy: 0.3333\n",
            "Epoch 339/400\n",
            "3/3 [==============================] - 0s 21ms/step - loss: 1.3178 - accuracy: 0.3636 - val_loss: 1.3442 - val_accuracy: 0.3333\n",
            "Epoch 340/400\n",
            "3/3 [==============================] - 0s 20ms/step - loss: 1.3176 - accuracy: 0.3636 - val_loss: 1.3443 - val_accuracy: 0.3333\n",
            "Epoch 341/400\n",
            "3/3 [==============================] - 0s 21ms/step - loss: 1.3176 - accuracy: 0.3636 - val_loss: 1.3443 - val_accuracy: 0.3333\n",
            "Epoch 342/400\n",
            "3/3 [==============================] - 0s 21ms/step - loss: 1.3175 - accuracy: 0.3636 - val_loss: 1.3446 - val_accuracy: 0.3333\n",
            "Epoch 343/400\n",
            "3/3 [==============================] - 0s 22ms/step - loss: 1.3175 - accuracy: 0.3636 - val_loss: 1.3447 - val_accuracy: 0.3333\n",
            "Epoch 344/400\n",
            "3/3 [==============================] - 0s 21ms/step - loss: 1.3174 - accuracy: 0.3636 - val_loss: 1.3446 - val_accuracy: 0.3333\n",
            "Epoch 345/400\n",
            "3/3 [==============================] - 0s 22ms/step - loss: 1.3172 - accuracy: 0.3636 - val_loss: 1.3446 - val_accuracy: 0.3333\n",
            "Epoch 346/400\n",
            "3/3 [==============================] - 0s 20ms/step - loss: 1.3169 - accuracy: 0.3636 - val_loss: 1.3442 - val_accuracy: 0.3333\n",
            "Epoch 347/400\n",
            "3/3 [==============================] - 0s 20ms/step - loss: 1.3168 - accuracy: 0.3636 - val_loss: 1.3438 - val_accuracy: 0.3333\n",
            "Epoch 348/400\n",
            "3/3 [==============================] - 0s 21ms/step - loss: 1.3167 - accuracy: 0.3636 - val_loss: 1.3438 - val_accuracy: 0.3333\n",
            "Epoch 349/400\n",
            "3/3 [==============================] - 0s 20ms/step - loss: 1.3166 - accuracy: 0.3636 - val_loss: 1.3435 - val_accuracy: 0.3333\n",
            "Epoch 350/400\n",
            "3/3 [==============================] - 0s 19ms/step - loss: 1.3165 - accuracy: 0.3636 - val_loss: 1.3431 - val_accuracy: 0.3333\n",
            "Epoch 351/400\n",
            "3/3 [==============================] - 0s 24ms/step - loss: 1.3164 - accuracy: 0.3636 - val_loss: 1.3426 - val_accuracy: 0.3333\n",
            "Epoch 352/400\n",
            "3/3 [==============================] - 0s 21ms/step - loss: 1.3163 - accuracy: 0.3636 - val_loss: 1.3423 - val_accuracy: 0.3333\n",
            "Epoch 353/400\n",
            "3/3 [==============================] - 0s 20ms/step - loss: 1.3161 - accuracy: 0.3636 - val_loss: 1.3419 - val_accuracy: 0.3333\n",
            "Epoch 354/400\n",
            "3/3 [==============================] - 0s 20ms/step - loss: 1.3161 - accuracy: 0.3636 - val_loss: 1.3419 - val_accuracy: 0.3333\n",
            "Epoch 355/400\n",
            "3/3 [==============================] - 0s 20ms/step - loss: 1.3160 - accuracy: 0.3636 - val_loss: 1.3417 - val_accuracy: 0.3333\n",
            "Epoch 356/400\n",
            "3/3 [==============================] - 0s 21ms/step - loss: 1.3158 - accuracy: 0.3636 - val_loss: 1.3422 - val_accuracy: 0.3333\n",
            "Epoch 357/400\n",
            "3/3 [==============================] - 0s 19ms/step - loss: 1.3157 - accuracy: 0.3636 - val_loss: 1.3425 - val_accuracy: 0.3333\n",
            "Epoch 358/400\n",
            "3/3 [==============================] - 0s 20ms/step - loss: 1.3156 - accuracy: 0.3636 - val_loss: 1.3423 - val_accuracy: 0.3333\n",
            "Epoch 359/400\n",
            "3/3 [==============================] - 0s 20ms/step - loss: 1.3153 - accuracy: 0.3636 - val_loss: 1.3424 - val_accuracy: 0.3333\n",
            "Epoch 360/400\n",
            "3/3 [==============================] - 0s 20ms/step - loss: 1.3153 - accuracy: 0.3636 - val_loss: 1.3424 - val_accuracy: 0.3333\n",
            "Epoch 361/400\n",
            "3/3 [==============================] - 0s 20ms/step - loss: 1.3153 - accuracy: 0.3636 - val_loss: 1.3428 - val_accuracy: 0.3333\n",
            "Epoch 362/400\n",
            "3/3 [==============================] - 0s 20ms/step - loss: 1.3153 - accuracy: 0.3636 - val_loss: 1.3428 - val_accuracy: 0.3333\n",
            "Epoch 363/400\n",
            "3/3 [==============================] - 0s 20ms/step - loss: 1.3152 - accuracy: 0.3636 - val_loss: 1.3429 - val_accuracy: 0.3333\n",
            "Epoch 364/400\n",
            "3/3 [==============================] - 0s 22ms/step - loss: 1.3152 - accuracy: 0.3636 - val_loss: 1.3429 - val_accuracy: 0.3333\n",
            "Epoch 365/400\n",
            "3/3 [==============================] - 0s 20ms/step - loss: 1.3152 - accuracy: 0.3636 - val_loss: 1.3429 - val_accuracy: 0.3333\n",
            "Epoch 366/400\n",
            "3/3 [==============================] - 0s 20ms/step - loss: 1.3151 - accuracy: 0.3636 - val_loss: 1.3432 - val_accuracy: 0.3333\n",
            "Epoch 367/400\n",
            "3/3 [==============================] - 0s 20ms/step - loss: 1.3151 - accuracy: 0.3636 - val_loss: 1.3428 - val_accuracy: 0.3333\n",
            "Epoch 368/400\n",
            "3/3 [==============================] - 0s 20ms/step - loss: 1.3150 - accuracy: 0.3636 - val_loss: 1.3427 - val_accuracy: 0.3333\n",
            "Epoch 369/400\n",
            "3/3 [==============================] - 0s 23ms/step - loss: 1.3147 - accuracy: 0.3636 - val_loss: 1.3426 - val_accuracy: 0.3333\n",
            "Epoch 370/400\n",
            "3/3 [==============================] - 0s 21ms/step - loss: 1.3144 - accuracy: 0.3636 - val_loss: 1.3426 - val_accuracy: 0.3333\n",
            "Epoch 371/400\n",
            "3/3 [==============================] - 0s 23ms/step - loss: 1.3144 - accuracy: 0.3636 - val_loss: 1.3423 - val_accuracy: 0.3333\n",
            "Epoch 372/400\n",
            "3/3 [==============================] - 0s 20ms/step - loss: 1.3142 - accuracy: 0.3636 - val_loss: 1.3420 - val_accuracy: 0.3333\n",
            "Epoch 373/400\n",
            "3/3 [==============================] - 0s 22ms/step - loss: 1.3141 - accuracy: 0.3636 - val_loss: 1.3417 - val_accuracy: 0.3333\n",
            "Epoch 374/400\n",
            "3/3 [==============================] - 0s 22ms/step - loss: 1.3140 - accuracy: 0.3636 - val_loss: 1.3417 - val_accuracy: 0.3333\n",
            "Epoch 375/400\n",
            "3/3 [==============================] - 0s 22ms/step - loss: 1.3140 - accuracy: 0.3636 - val_loss: 1.3414 - val_accuracy: 0.3333\n",
            "Epoch 376/400\n",
            "3/3 [==============================] - 0s 20ms/step - loss: 1.3139 - accuracy: 0.3636 - val_loss: 1.3411 - val_accuracy: 0.3333\n",
            "Epoch 377/400\n",
            "3/3 [==============================] - 0s 20ms/step - loss: 1.3139 - accuracy: 0.3636 - val_loss: 1.3407 - val_accuracy: 0.3333\n",
            "Epoch 378/400\n",
            "3/3 [==============================] - 0s 21ms/step - loss: 1.3137 - accuracy: 0.3636 - val_loss: 1.3407 - val_accuracy: 0.3333\n",
            "Epoch 379/400\n",
            "3/3 [==============================] - 0s 20ms/step - loss: 1.3133 - accuracy: 0.3636 - val_loss: 1.3407 - val_accuracy: 0.3333\n",
            "Epoch 380/400\n",
            "3/3 [==============================] - 0s 19ms/step - loss: 1.3133 - accuracy: 0.3636 - val_loss: 1.3408 - val_accuracy: 0.3333\n",
            "Epoch 381/400\n",
            "3/3 [==============================] - 0s 21ms/step - loss: 1.3133 - accuracy: 0.3636 - val_loss: 1.3408 - val_accuracy: 0.3333\n",
            "Epoch 382/400\n",
            "3/3 [==============================] - 0s 20ms/step - loss: 1.3133 - accuracy: 0.3636 - val_loss: 1.3412 - val_accuracy: 0.3333\n",
            "Epoch 383/400\n",
            "3/3 [==============================] - 0s 22ms/step - loss: 1.3133 - accuracy: 0.3636 - val_loss: 1.3416 - val_accuracy: 0.3333\n",
            "Epoch 384/400\n",
            "3/3 [==============================] - 0s 20ms/step - loss: 1.3132 - accuracy: 0.3636 - val_loss: 1.3415 - val_accuracy: 0.3333\n",
            "Epoch 385/400\n",
            "3/3 [==============================] - 0s 20ms/step - loss: 1.3129 - accuracy: 0.3636 - val_loss: 1.3412 - val_accuracy: 0.3333\n",
            "Epoch 386/400\n",
            "3/3 [==============================] - 0s 20ms/step - loss: 1.3127 - accuracy: 0.3636 - val_loss: 1.3410 - val_accuracy: 0.3333\n",
            "Epoch 387/400\n",
            "3/3 [==============================] - 0s 20ms/step - loss: 1.3125 - accuracy: 0.3636 - val_loss: 1.3409 - val_accuracy: 0.3333\n",
            "Epoch 388/400\n",
            "3/3 [==============================] - 0s 20ms/step - loss: 1.3121 - accuracy: 0.3636 - val_loss: 1.3410 - val_accuracy: 0.3333\n",
            "Epoch 389/400\n",
            "3/3 [==============================] - 0s 21ms/step - loss: 1.3122 - accuracy: 0.3636 - val_loss: 1.3407 - val_accuracy: 0.3333\n",
            "Epoch 390/400\n",
            "3/3 [==============================] - 0s 20ms/step - loss: 1.3123 - accuracy: 0.3636 - val_loss: 1.3407 - val_accuracy: 0.3333\n",
            "Epoch 391/400\n",
            "3/3 [==============================] - 0s 20ms/step - loss: 1.3121 - accuracy: 0.3636 - val_loss: 1.3404 - val_accuracy: 0.3333\n",
            "Epoch 392/400\n",
            "3/3 [==============================] - 0s 23ms/step - loss: 1.3120 - accuracy: 0.3636 - val_loss: 1.3408 - val_accuracy: 0.3333\n",
            "Epoch 393/400\n",
            "3/3 [==============================] - 0s 21ms/step - loss: 1.3119 - accuracy: 0.3636 - val_loss: 1.3412 - val_accuracy: 0.3333\n",
            "Epoch 394/400\n",
            "3/3 [==============================] - 0s 21ms/step - loss: 1.3120 - accuracy: 0.3636 - val_loss: 1.3412 - val_accuracy: 0.3333\n",
            "Epoch 395/400\n",
            "3/3 [==============================] - 0s 20ms/step - loss: 1.3115 - accuracy: 0.3636 - val_loss: 1.3412 - val_accuracy: 0.3333\n",
            "Epoch 396/400\n",
            "3/3 [==============================] - 0s 20ms/step - loss: 1.3115 - accuracy: 0.3636 - val_loss: 1.3411 - val_accuracy: 0.3333\n",
            "Epoch 397/400\n",
            "3/3 [==============================] - 0s 19ms/step - loss: 1.3112 - accuracy: 0.3636 - val_loss: 1.3409 - val_accuracy: 0.3333\n",
            "Epoch 398/400\n",
            "3/3 [==============================] - 0s 20ms/step - loss: 1.3110 - accuracy: 0.3636 - val_loss: 1.3413 - val_accuracy: 0.3333\n",
            "Epoch 399/400\n",
            "3/3 [==============================] - 0s 20ms/step - loss: 1.3109 - accuracy: 0.3636 - val_loss: 1.3409 - val_accuracy: 0.3333\n",
            "Epoch 400/400\n",
            "3/3 [==============================] - 0s 20ms/step - loss: 1.3109 - accuracy: 0.3636 - val_loss: 1.3413 - val_accuracy: 0.3333\n"
          ]
        }
      ],
      "source": [
        "log = model.fit(X_train, y_train, batch_size=bs, epochs=400, validation_data=(X_test, y_test))"
      ]
    },
    {
      "cell_type": "code",
      "execution_count": 29,
      "metadata": {
        "id": "kQ6FwN8eurrg"
      },
      "outputs": [],
      "source": [
        "def show_results(model, log):\n",
        "    loss, acc = model.evaluate(X_test, y_test, batch_size=512, verbose=False)\n",
        "    print(f'Loss     = {loss:.4f}')\n",
        "    print(f'Accuracy = {acc:.4f}')\n",
        "    val_loss = log.history['val_loss']\n",
        "    val_acc = log.history['val_accuracy']\n",
        "    fig, axes = plt.subplots(1, 2, figsize=(14,4))\n",
        "    ax1, ax2 = axes\n",
        "    ax1.plot(log.history['loss'], label='train')\n",
        "    ax1.plot(val_loss, label='test')\n",
        "    ax1.set_xlabel('epoch'); ax1.set_ylabel('loss')\n",
        "    ax2.plot(log.history['accuracy'], label='train')\n",
        "    ax2.plot(val_acc, label='test')\n",
        "    ax2.set_xlabel('epoch'); ax2.set_ylabel('acc')\n",
        "    for ax in axes: ax.legend()"
      ]
    },
    {
      "cell_type": "code",
      "execution_count": 30,
      "metadata": {
        "colab": {
          "base_uri": "https://localhost:8080/",
          "height": 428
        },
        "id": "u2gq4oP4rose",
        "outputId": "566a14b0-67af-4c7d-ee59-39ac59f79e02"
      },
      "outputs": [
        {
          "name": "stdout",
          "output_type": "stream",
          "text": [
            "Loss     = 1.3413\n",
            "Accuracy = 0.3333\n"
          ]
        },
        {
          "data": {
            "image/png": "[encoded data removed]",
            "text/plain": [
              "<Figure size 1400x400 with 2 Axes>"
            ]
          },
          "metadata": {},
          "output_type": "display_data"
        }
      ],
      "source": [
        "show_results(model, log)"
      ]
    },
    {
      "cell_type": "markdown",
      "metadata": {
        "id": "qNgZtFfylqyS"
      },
      "source": [
        "## Probando el modelo"
      ]
    },
    {
      "cell_type": "code",
      "execution_count": 31,
      "metadata": {
        "colab": {
          "base_uri": "https://localhost:8080/",
          "height": 428
        },
        "id": "68Sohfl7g5BT",
        "outputId": "2b6258ec-e4cf-4ee4-8d9c-00673d7bb7b2"
      },
      "outputs": [
        {
          "data": {
            "image/png": "[encoded data removed]",
            "text/plain": [
              "<Figure size 640x480 with 1 Axes>"
            ]
          },
          "metadata": {},
          "output_type": "display_data"
        }
      ],
      "source": [
        "idx = np.random.choice(X_test.shape[0], 1)[0]\n",
        "im = X_test[idx]\n",
        "label = y_test[idx]\n",
        "plt.title('(test) id:{} val:{}'.format(idx, label ))\n",
        "plt.axis('off')\n",
        "plt.imshow(-im[:,:,0], cmap='gray')\n",
        "plt.show()"
      ]
    },
    {
      "cell_type": "markdown",
      "metadata": {
        "id": "v3W6WqMvmRP5"
      },
      "source": [
        "## Usando el modelo entrenado"
      ]
    },
    {
      "cell_type": "code",
      "execution_count": 32,
      "metadata": {
        "colab": {
          "base_uri": "https://localhost:8080/"
        },
        "id": "arNeSd_gmB2Y",
        "outputId": "130ca75f-2010-43ed-b818-0893ebac92f8"
      },
      "outputs": [
        {
          "data": {
            "text/plain": [
              "array([0.32050747, 0.2484052 , 0.21626356, 0.21482375], dtype=float32)"
            ]
          },
          "execution_count": 32,
          "metadata": {},
          "output_type": "execute_result"
        }
      ],
      "source": [
        "salida = model.predict(im[None,:,:,:])[0]\n",
        "salida"
      ]
    },
    {
      "cell_type": "code",
      "execution_count": 33,
      "metadata": {
        "colab": {
          "base_uri": "https://localhost:8080/",
          "height": 490
        },
        "id": "kxGGKcpIm7Ch",
        "outputId": "af84f0b6-c692-4e6c-981b-f2243abb6e21"
      },
      "outputs": [
        {
          "data": {
            "text/plain": [
              "[]"
            ]
          },
          "execution_count": 33,
          "metadata": {},
          "output_type": "execute_result"
        },
        {
          "data": {
            "image/png": "[encoded data removed]",
            "text/plain": [
              "<Figure size 640x480 with 1 Axes>"
            ]
          },
          "metadata": {},
          "output_type": "display_data"
        }
      ],
      "source": [
        "plt.figure()\n",
        "plt.title(\"Predicción: {} Label: {}\".format(salida.argmax(), label ))\n",
        "plt.ylabel(\"Probabilidad\")\n",
        "plt.xlabel(\"Dígito\")\n",
        "plt.ylim([0,1])\n",
        "plt.bar(np.arange(4), salida)\n",
        "plt.plot()"
      ]
    },
    {
      "cell_type": "code",
      "execution_count": null,
      "metadata": {
        "id": "0yQxdb_8oFwZ"
      },
      "outputs": [],
      "source": []
    }
  ],
  "metadata": {
    "colab": {
      "provenance": []
    },
    "kernelspec": {
      "display_name": "Python 3",
      "name": "python3"
    },
    "language_info": {
      "codemirror_mode": {
        "name": "ipython",
        "version": 3
      },
      "file_extension": ".py",
      "mimetype": "text/x-python",
      "name": "python",
      "nbconvert_exporter": "python",
      "pygments_lexer": "ipython3",
      "version": "3.9.13"
    }
  },
  "nbformat": 4,
  "nbformat_minor": 0
}
